{
 "cells": [
  {
   "attachments": {},
   "cell_type": "markdown",
   "id": "3e67f200",
   "metadata": {},
   "source": [
    "# How to call functions with chat models\n",
    "\n",
    "This notebook covers how to use the Chat Completions API in combination with external functions to extend the capabilities of GPT models.\n",
    "\n",
    "`functions` is an optional parameter in the Chat Completion API which can be used to provide function specifications. The purpose of this is to enable models to generate function arguments which adhere to the provided specifications. Note that the API will not actually execute any function calls. It is up to developers to execute function calls using model outputs.\n",
    "\n",
    "If the `functions` parameter is provided then by default the model will decide when it is appropriate to use one of the functions. The API can be forced to use a specific function by setting the `function_call` parameter to `{\"name\": \"<insert-function-name>\"}`. The API can also be forced to not use any function by setting the `function_call` parameter to `\"none\"`. If a function is used, the output will contain `\"finish_reason\": \"function_call\"` in the response, as well as a `function_call` object that has the name of the function and the generated function arguments.\n",
    "\n",
    "### Overview\n",
    "\n",
    "This notebook contains the following 2 sections:\n",
    "\n",
    "- **How to generate function arguments:** Specify a set of functions and use the API to generate function arguments.\n",
    "- **How to call functions with model generated arguments:** Close the loop by actually executing functions with model generated arguments."
   ]
  },
  {
   "attachments": {},
   "cell_type": "markdown",
   "id": "64c85e26",
   "metadata": {},
   "source": [
    "## How to generate function arguments"
   ]
  },
  {
   "cell_type": "code",
   "execution_count": 1,
   "id": "dab872c5",
   "metadata": {},
   "outputs": [],
   "source": [
    "import json\n",
    "import openai\n",
    "import requests\n",
    "from tenacity import retry, wait_random_exponential, stop_after_attempt\n",
    "from termcolor import colored\n",
    "\n",
    "GPT_MODEL = \"gpt-4\""
   ]
  },
  {
   "attachments": {},
   "cell_type": "markdown",
   "id": "69ee6a93",
   "metadata": {},
   "source": [
    "### Utilities\n",
    "\n",
    "First let's define a few utilities for making calls to the Chat Completions API and for maintaining and keeping track of the conversation state."
   ]
  },
  {
   "cell_type": "code",
   "execution_count": 2,
   "id": "745ceec5",
   "metadata": {},
   "outputs": [],
   "source": [
    "@retry(wait=wait_random_exponential(multiplier=1, max=40), stop=stop_after_attempt(3))\n",
    "def chat_completion_request(messages, functions=None, function_call=None, model=GPT_MODEL):\n",
    "    headers = {\n",
    "        \"Content-Type\": \"application/json\",\n",
    "        \"Authorization\": \"Bearer \" + openai.api_key,\n",
    "    }\n",
    "    json_data = {\"model\": model, \"messages\": messages}\n",
    "    if functions is not None:\n",
    "        json_data.update({\"functions\": functions})\n",
    "    if function_call is not None:\n",
    "        json_data.update({\"function_call\": function_call})\n",
    "    try:\n",
    "        response = requests.post(\n",
    "            \"https://api.openai.com/v1/chat/completions\",\n",
    "            headers=headers,\n",
    "            json=json_data,\n",
    "        )\n",
    "        return response\n",
    "    except Exception as e:\n",
    "        print(\"Unable to generate ChatCompletion response\")\n",
    "        print(f\"Exception: {e}\")\n",
    "        return e\n"
   ]
  },
  {
   "cell_type": "code",
   "execution_count": 3,
   "id": "c4d1c99f",
   "metadata": {},
   "outputs": [],
   "source": [
    "def pretty_print_conversation(messages):\n",
    "    role_to_color = {\n",
    "        \"system\": \"red\",\n",
    "        \"user\": \"green\",\n",
    "        \"assistant\": \"blue\",\n",
    "        \"function\": \"magenta\",\n",
    "    }\n",
    "    \n",
    "    for message in messages:\n",
    "        if message[\"role\"] == \"system\":\n",
    "            print(colored(f\"system: {message['content']}\\n\", role_to_color[message[\"role\"]]))\n",
    "        elif message[\"role\"] == \"user\":\n",
    "            print(colored(f\"user: {message['content']}\\n\", role_to_color[message[\"role\"]]))\n",
    "        elif message[\"role\"] == \"assistant\" and message.get(\"function_call\"):\n",
    "            print(colored(f\"assistant: {message['function_call']}\\n\", role_to_color[message[\"role\"]]))\n",
    "        elif message[\"role\"] == \"assistant\" and not message.get(\"function_call\"):\n",
    "            print(colored(f\"assistant: {message['content']}\\n\", role_to_color[message[\"role\"]]))\n",
    "        elif message[\"role\"] == \"function\":\n",
    "            print(colored(f\"function ({message['name']}): {message['content']}\\n\", role_to_color[message[\"role\"]]))\n"
   ]
  },
  {
   "attachments": {},
   "cell_type": "markdown",
   "id": "b4482aee",
   "metadata": {},
   "source": [
    "## How to call functions with model generated arguments\n",
    "\n",
    "In our next example, we'll demonstrate how to execute functions whose inputs are model-generated, and use this to implement an agent that can answer questions for us about a database. For simplicity we'll use the [Chinook sample database](https://www.sqlitetutorial.net/sqlite-sample-database/).\n",
    "\n",
    "*Note:* SQL generation can be high-risk in a production environment since models are not perfectly reliable at generating correct SQL."
   ]
  },
  {
   "attachments": {},
   "cell_type": "markdown",
   "id": "f7654fef",
   "metadata": {},
   "source": [
    "### Specifying a function to execute SQL queries\n",
    "\n",
    "First let's define some helpful utility functions to extract data from a SQLite database."
   ]
  },
  {
   "cell_type": "code",
   "execution_count": 4,
   "id": "30f6b60e",
   "metadata": {},
   "outputs": [
    {
     "name": "stdout",
     "output_type": "stream",
     "text": [
      "Opened database successfully\n"
     ]
    }
   ],
   "source": [
    "import sqlite3\n",
    "\n",
    "conn = sqlite3.connect(\"data/Chinook.db\")\n",
    "\n",
    "print(\"Opened database successfully\")"
   ]
  },
  {
   "cell_type": "code",
   "execution_count": 5,
   "id": "abec0214",
   "metadata": {},
   "outputs": [],
   "source": [
    "def get_table_names(conn):\n",
    "    \"\"\"Return a list of table names.\"\"\"\n",
    "    table_names = []\n",
    "    tables = conn.execute(\"SELECT name FROM sqlite_master WHERE type='table';\")\n",
    "    for table in tables.fetchall():\n",
    "        table_names.append(table[0])\n",
    "    return table_names\n",
    "\n",
    "\n",
    "def get_column_names(conn, table_name):\n",
    "    \"\"\"Return a list of column names.\"\"\"\n",
    "    column_names = []\n",
    "    columns = conn.execute(f\"PRAGMA table_info('{table_name}');\").fetchall()\n",
    "    for col in columns:\n",
    "        column_names.append(col[1])\n",
    "    return column_names\n",
    "\n",
    "\n",
    "def get_database_info(conn):\n",
    "    \"\"\"Return a list of dicts containing the table name and columns for each table in the database.\"\"\"\n",
    "    table_dicts = []\n",
    "    for table_name in get_table_names(conn):\n",
    "        columns_names = get_column_names(conn, table_name)\n",
    "        table_dicts.append({\"table_name\": table_name, \"column_names\": columns_names})\n",
    "    return table_dicts\n",
    "\n",
    "def execute_query(conn, q):\n",
    "    return conn.execute(q).fetchall()\n"
   ]
  },
  {
   "cell_type": "code",
   "execution_count": 3,
   "id": "e828d6f8-5ef6-4ba0-88d9-bcfe108319e6",
   "metadata": {},
   "outputs": [
    {
     "name": "stdout",
     "output_type": "stream",
     "text": [
      "[(275,)]\n"
     ]
    }
   ],
   "source": [
    "print ( execute_query(conn,\"select count(*) from artists\"))"
   ]
  },
  {
   "cell_type": "code",
   "execution_count": null,
   "id": "d31ea450-f5ec-436d-bf1f-1ed94755c805",
   "metadata": {},
   "outputs": [],
   "source": [
    "q=\"\"\"\n",
    "select g.Name, q.c \n",
    "from\n",
    "  ( select GenreId, count(*) as c\n",
    "  from \"tracks\" group by GenreId)q \n",
    "inner join genres g\n",
    "where g.GenreId = q.GenreId \n",
    "order by c desc \n",
    "\"\"\"\n",
    "print ( execute_query(conn,q))"
   ]
  },
  {
   "cell_type": "code",
   "execution_count": null,
   "id": "264c5c56-d82c-4fed-b8f7-906389ca54bd",
   "metadata": {},
   "outputs": [],
   "source": [
    "### gets the least popular track\n",
    "q = \"\"\"\n",
    "select g.Name, q.c from\n",
    " (select GenreId, count(*) as c\n",
    "  from \"tracks\" group by GenreId)q\n",
    "inner join genres g \n",
    "where g.GenreId = q.GenreId order by q.c asc limit 1\n",
    "\"\"\"\n",
    "\n",
    "\n",
    "print ( execute_query(conn, q))"
   ]
  },
  {
   "cell_type": "code",
   "execution_count": null,
   "id": "f3754185-28d4-46f6-b8ad-bfed4d9a16b5",
   "metadata": {},
   "outputs": [],
   "source": [
    "### gets most prolific artists\n",
    "q = \"\"\"\n",
    "select a.name, q.c \n",
    "from artists a inner join\n",
    "  (select ArtistId, count(*) c\n",
    "  from albums\n",
    "  group by ArtistId\n",
    "  order by c desc)q \n",
    "  where a.ArtistId=q.ArtistId;\n",
    "\"\"\"\n",
    "print ( execute_query(conn, q))"
   ]
  },
  {
   "cell_type": "code",
   "execution_count": 23,
   "id": "16bc9039-fa91-4402-bf1e-be46f8a424fc",
   "metadata": {},
   "outputs": [
    {
     "name": "stdout",
     "output_type": "stream",
     "text": [
      "[('Rock',), ('Jazz',), ('Metal',), ('Alternative & Punk',), ('Rock And Roll',), ('Blues',), ('Latin',), ('Reggae',), ('Pop',), ('Soundtrack',), ('Bossa Nova',), ('Easy Listening',), ('Heavy Metal',), ('R&B/Soul',), ('Electronica/Dance',), ('World',), ('Hip Hop/Rap',), ('Science Fiction',), ('TV Shows',), ('Sci Fi & Fantasy',), ('Drama',), ('Comedy',), ('Alternative',), ('Classical',), ('Opera',)]\n"
     ]
    }
   ],
   "source": [
    "q=\"\"\"\n",
    " select distinct(Name) from genres\n",
    "\"\"\"\n",
    "print ( execute_query(conn, q))"
   ]
  },
  {
   "cell_type": "code",
   "execution_count": 24,
   "id": "fe965c88-d807-40d3-988e-3ed0abdd7df4",
   "metadata": {},
   "outputs": [
    {
     "name": "stdout",
     "output_type": "stream",
     "text": [
      "[(57, 'Luis Rojas', 12), (45, 'Ladislav Kovács', 11), (3, 'François Tremblay', 10), (14, 'Mark Philips', 10), (17, 'Jack Smith', 10)]\n"
     ]
    }
   ],
   "source": [
    "q=\"\"\"\n",
    "select innerQ.CustomerId, innerQ.cName, count(distinct(innerQ.gName)) genreCount\n",
    "from \n",
    " (select c.FirstName || ' ' || c.LastName as cName, c.CustomerId, genres.Name as gName\n",
    " from invoice_items items\n",
    " inner join invoices invs \n",
    " on  invs.InvoiceId=items.InvoiceId\n",
    " inner join customers\n",
    " c on c.CustomerId=invs.CustomerId\n",
    " inner join tracks\n",
    " on items.TrackId = tracks.TrackId\n",
    " inner join genres on genres.GenreId = tracks.GenreId)innerQ\n",
    " group by innerQ.CustomerId\n",
    " order by genreCount desc\n",
    " limit 5\n",
    "\n",
    "\"\"\"\n",
    "print ( execute_query(conn, q))"
   ]
  },
  {
   "cell_type": "code",
   "execution_count": 11,
   "id": "fa2171d6-55d1-442d-b207-4df65838812d",
   "metadata": {},
   "outputs": [
    {
     "name": "stdout",
     "output_type": "stream",
     "text": [
      "[(6, 'Helena Holý', 49.62), (26, 'Richard Cunningham', 47.62), (57, 'Luis Rojas', 46.62), (46, \"Hugh O'Reilly\", 45.62), (45, 'Ladislav Kovács', 45.62)]\n"
     ]
    }
   ],
   "source": [
    "### which customers have spent the most money\n",
    "q = \"\"\"\n",
    "select i.CustomerId, c.FirstName || ' ' ||  c.LastName as customerName,  round(sum(spendPerInvoice.totalSpent),2) as spendPerCustomer \n",
    "from invoices i\n",
    "inner join\n",
    "(select InvoiceId, round(sum(UnitPrice * Quantity),2) as totalSpent \n",
    "  from invoice_items\n",
    "  group by InvoiceId \n",
    "  order by totalSpent desc) spendPerInvoice\n",
    "on i.InvoiceId = spendPerInvoice.InvoiceId\n",
    "inner join customers c\n",
    "on c.CustomerId=i.CustomerId\n",
    "group by i.CustomerId\n",
    "order by spendPerCustomer desc\n",
    "limit 5\n",
    "\n",
    "\"\"\"\n",
    "print ( execute_query(conn, q))"
   ]
  },
  {
   "attachments": {},
   "cell_type": "markdown",
   "id": "77e6e5ea",
   "metadata": {},
   "source": [
    "Now can use these utility functions to extract a representation of the database schema."
   ]
  },
  {
   "cell_type": "code",
   "execution_count": 7,
   "id": "0c0104cd",
   "metadata": {},
   "outputs": [
    {
     "name": "stdout",
     "output_type": "stream",
     "text": [
      "Table: albums\n",
      "Columns: AlbumId, Title, ArtistId\n",
      "Table: sqlite_sequence\n",
      "Columns: name, seq\n",
      "Table: artists\n",
      "Columns: ArtistId, Name\n",
      "Table: customers\n",
      "Columns: CustomerId, FirstName, LastName, Company, Address, City, State, Country, PostalCode, Phone, Fax, Email, SupportRepId\n",
      "Table: employees\n",
      "Columns: EmployeeId, LastName, FirstName, Title, ReportsTo, BirthDate, HireDate, Address, City, State, Country, PostalCode, Phone, Fax, Email\n",
      "Table: genres\n",
      "Columns: GenreId, Name\n",
      "Table: invoices\n",
      "Columns: InvoiceId, CustomerId, InvoiceDate, BillingAddress, BillingCity, BillingState, BillingCountry, BillingPostalCode, Total\n",
      "Table: invoice_items\n",
      "Columns: InvoiceLineId, InvoiceId, TrackId, UnitPrice, Quantity\n",
      "Table: media_types\n",
      "Columns: MediaTypeId, Name\n",
      "Table: playlists\n",
      "Columns: PlaylistId, Name\n",
      "Table: playlist_track\n",
      "Columns: PlaylistId, TrackId\n",
      "Table: tracks\n",
      "Columns: TrackId, Name, AlbumId, MediaTypeId, GenreId, Composer, Milliseconds, Bytes, UnitPrice\n",
      "Table: sqlite_stat1\n",
      "Columns: tbl, idx, stat\n"
     ]
    }
   ],
   "source": [
    "database_schema_dict = get_database_info(conn)\n",
    "database_schema_string = \"\\n\".join(\n",
    "    [\n",
    "        f\"Table: {table['table_name']}\\nColumns: {', '.join(table['column_names'])}\"\n",
    "        for table in database_schema_dict\n",
    "    ]\n",
    ")\n",
    "print (database_schema_string)"
   ]
  },
  {
   "attachments": {},
   "cell_type": "markdown",
   "id": "ae73c9ee",
   "metadata": {},
   "source": [
    "As before, we'll define a function specification for the function we'd like the API to generate arguments for. Notice that we are inserting the database schema into the function specification. This will be important for the model to know about."
   ]
  },
  {
   "cell_type": "code",
   "execution_count": 8,
   "id": "0258813a",
   "metadata": {},
   "outputs": [],
   "source": [
    "functions = [\n",
    "    {\n",
    "        \"name\": \"ask_database\",\n",
    "        \"description\": \"Use this function to answer user questions about music. Input should be a fully formed SQL query.\",\n",
    "        \"parameters\": {\n",
    "            \"type\": \"object\",\n",
    "            \"properties\": {\n",
    "                \"query\": {\n",
    "                    \"type\": \"string\",\n",
    "                    \"description\": f\"\"\"\n",
    "                            SQL query extracting info to answer the user's question.\n",
    "                            SQL should be written using this database schema:\n",
    "                            {database_schema_string}\n",
    "                            The query should be returned in plain text, not in JSON.\n",
    "                            \"\"\",\n",
    "                }\n",
    "            },\n",
    "            \"required\": [\"query\"],\n",
    "        },\n",
    "    }\n",
    "]"
   ]
  },
  {
   "attachments": {},
   "cell_type": "markdown",
   "id": "da08c121",
   "metadata": {},
   "source": [
    "### Executing SQL queries\n",
    "\n",
    "Now let's implement the function that will actually excute queries against the database."
   ]
  },
  {
   "cell_type": "code",
   "execution_count": 9,
   "id": "65585e74",
   "metadata": {},
   "outputs": [],
   "source": [
    "def ask_database(conn, query):\n",
    "    \"\"\"Function to query SQLite database with a provided SQL query.\"\"\"\n",
    "    try:\n",
    "        results = str(conn.execute(query).fetchall())\n",
    "    except Exception as e:\n",
    "        results = f\"query failed with error: {e}\"\n",
    "    return results\n",
    "\n",
    "def execute_function_call(message):\n",
    "    if message[\"function_call\"][\"name\"] == \"ask_database\":\n",
    "        query = json.loads(message[\"function_call\"][\"arguments\"])[\"query\"]\n",
    "        results = ask_database(conn, query)\n",
    "    else:\n",
    "        results = f\"Error: function {message['function_call']['name']} does not exist\"\n",
    "    return results"
   ]
  },
  {
   "cell_type": "code",
   "execution_count": 10,
   "id": "ba9c2b46-8a25-41c8-94de-733dd591cb56",
   "metadata": {},
   "outputs": [],
   "source": [
    "## this method performs the full conversational flow, generating the function, executing it and\n",
    "## describing the results\n",
    "def do_conversation(conn, input):\n",
    "    \n",
    "    messages = []\n",
    "    messages.append({\"role\": \"system\", \"content\": \"Answer user questions by generating SQL queries against the Chinook Music Database.\"})\n",
    "    messages.append({\"role\": \"user\", \"content\": input})\n",
    "    chat_response = chat_completion_request(messages, functions)\n",
    "    assistant_message = chat_response.json()[\"choices\"][0][\"message\"]\n",
    "    messages.append(assistant_message)\n",
    "    if assistant_message.get(\"function_call\"):\n",
    "      results = execute_function_call(assistant_message)\n",
    "      messages.append({\"role\": \"function\", \"content\": results, \"name\": assistant_message[\"function_call\"][\"name\"]})\n",
    "      chat_response2 = chat_completion_request(messages)\n",
    "      pretty_print_conversation(messages)\n",
    "      messages.append(chat_response2.json()[\"choices\"][0][\"message\"])\n",
    "    pretty_print_conversation(messages)\n",
    "    "
   ]
  },
  {
   "cell_type": "code",
   "execution_count": 12,
   "id": "4f421ca9-86dc-48d4-b20e-d547e39dfcef",
   "metadata": {},
   "outputs": [],
   "source": [
    "queries = [\n",
    " \"how many artists are there?\",# y SELECT count(*) FROM artists\n",
    " \"How many artists feature Santana?\",\n",
    "  \"What  genre has the most tracks?\",\n",
    "  \"What genre has the least tracks?\",\n",
    "  \"What tracks are the most purchased\",## ignores ties, uses duplicated\n",
    "  \"What artist has made the most albums\",\n",
    "  \"List the 5 highest spending customers?\",\n",
    "  \"Which customer has the most genres of music\",\n",
    "  \"Which customer has the most eclectic taste in music\",\n",
    "]"
   ]
  },
  {
   "cell_type": "code",
   "execution_count": 13,
   "id": "710481dc",
   "metadata": {
    "scrolled": true
   },
   "outputs": [
    {
     "name": "stdout",
     "output_type": "stream",
     "text": [
      "\u001b[31msystem: Answer user questions by generating SQL queries against the Chinook Music Database.\n",
      "\u001b[0m\n",
      "\u001b[32muser: Which customer has the most genres of music\n",
      "\u001b[0m\n",
      "\u001b[34massistant: {'name': 'ask_database', 'arguments': '{\\n\"query\": \"SELECT c.FirstName, c.LastName, COUNT(DISTINCT t.GenreId) as GenreCount FROM customers c JOIN invoices i ON c.CustomerId=i.CustomerId JOIN invoice_items ii ON i.InvoiceId=ii.InvoiceId JOIN tracks t ON ii.TrackId=t.TrackId GROUP BY c.CustomerId ORDER BY GenreCount DESC LIMIT 1\"\\n}'}\n",
      "\u001b[0m\n",
      "\u001b[35mfunction (ask_database): [('Luis', 'Rojas', 12)]\n",
      "\u001b[0m\n",
      "\u001b[31msystem: Answer user questions by generating SQL queries against the Chinook Music Database.\n",
      "\u001b[0m\n",
      "\u001b[32muser: Which customer has the most genres of music\n",
      "\u001b[0m\n",
      "\u001b[34massistant: {'name': 'ask_database', 'arguments': '{\\n\"query\": \"SELECT c.FirstName, c.LastName, COUNT(DISTINCT t.GenreId) as GenreCount FROM customers c JOIN invoices i ON c.CustomerId=i.CustomerId JOIN invoice_items ii ON i.InvoiceId=ii.InvoiceId JOIN tracks t ON ii.TrackId=t.TrackId GROUP BY c.CustomerId ORDER BY GenreCount DESC LIMIT 1\"\\n}'}\n",
      "\u001b[0m\n",
      "\u001b[35mfunction (ask_database): [('Luis', 'Rojas', 12)]\n",
      "\u001b[0m\n",
      "\u001b[34massistant: The customer with the most genres of music is Luis Rojas with a total of 12 different genres.\n",
      "\u001b[0m\n"
     ]
    }
   ],
   "source": [
    "do_conversation(conn, queries[7])"
   ]
  },
  {
   "cell_type": "code",
   "execution_count": null,
   "id": "79263bf0-2e7d-4da4-924d-1d2ec9db8621",
   "metadata": {
    "scrolled": true
   },
   "outputs": [],
   "source": [
    "do_conversation(conn, queries[1])"
   ]
  },
  {
   "attachments": {},
   "cell_type": "markdown",
   "id": "2d89073c",
   "metadata": {},
   "source": [
    "## Next Steps\n",
    "\n",
    "See our other [notebook](How_to_call_functions_for_knowledge_retrieval.ipynb) that demonstrates how to use the Chat Completions API and functions for knowledge retrieval to interact conversationally with a knowledge base."
   ]
  }
 ],
 "metadata": {
  "kernelspec": {
   "display_name": "Python 3 (ipykernel)",
   "language": "python",
   "name": "python3"
  },
  "language_info": {
   "codemirror_mode": {
    "name": "ipython",
    "version": 3
   },
   "file_extension": ".py",
   "mimetype": "text/x-python",
   "name": "python",
   "nbconvert_exporter": "python",
   "pygments_lexer": "ipython3",
   "version": "3.10.6"
  }
 },
 "nbformat": 4,
 "nbformat_minor": 5
}
