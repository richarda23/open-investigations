{
 "cells": [
  {
   "cell_type": "markdown",
   "id": "858d5b46-f1f8-4917-a36f-437e5e4f3d5a",
   "metadata": {},
   "source": [
    "# Extracting information from input in structured manner\n",
    "\n",
    "This notebook performs simple sentiment analysis of input text, returning function arguments that contain some analysis of the input."
   ]
  },
  {
   "cell_type": "markdown",
   "id": "30c0671b-aacc-4884-86f9-5050cece5b2d",
   "metadata": {},
   "source": [
    "The usual boiler plate to import libraries and set the model\n",
    "You'll need your OpenAI key set as environment variable `OPENAI_API_KEY`"
   ]
  },
  {
   "cell_type": "code",
   "execution_count": 8,
   "id": "75cfe7d7-a1bc-4f30-8915-21307e36d25d",
   "metadata": {},
   "outputs": [],
   "source": [
    "import json\n",
    "import openai\n",
    "import requests\n",
    "from tenacity import retry, wait_random_exponential, stop_after_attempt\n",
    "from termcolor import colored\n",
    "\n",
    "GPT_MODEL = \"gpt-4\""
   ]
  },
  {
   "cell_type": "markdown",
   "id": "1de03bc9-30fa-45b7-b4a1-ec8befd58fb1",
   "metadata": {},
   "source": [
    "This is is the usual function to make a call to ChatGPT API completetion endpoint, taking a list of messages \n",
    "and optionally a list of functions, and optionally an instruction to create arguments for a specified function"
   ]
  },
  {
   "cell_type": "code",
   "execution_count": 9,
   "id": "c0ab86f7-7612-4ce5-9f39-663e9898e924",
   "metadata": {},
   "outputs": [],
   "source": [
    "@retry(wait=wait_random_exponential(multiplier=1, max=40), stop=stop_after_attempt(3))\n",
    "def chat_completion_request(messages, functions=None, function_call=None, model=GPT_MODEL):\n",
    "    headers = {\n",
    "        \"Content-Type\": \"application/json\",\n",
    "        \"Authorization\": \"Bearer \" + openai.api_key,\n",
    "    }\n",
    "    json_data = {\"model\": model, \"messages\": messages}\n",
    "    if functions is not None:\n",
    "        json_data.update({\"functions\": functions})\n",
    "    if function_call is not None:T\n",
    "        json_data.update({\"function_call\": function_call})\n",
    "    try:\n",
    "        response = requests.post(\n",
    "            \"https://api.openai.com/v1/chat/completions\",\n",
    "            headers=headers,\n",
    "            json=json_data,\n",
    "        )\n",
    "        return response\n",
    "    except Exception as e:\n",
    "        print(\"Unable to generate ChatCompletion response\")\n",
    "        print(f\"Exception: {e}\")\n",
    "        return e"
   ]
  },
  {
   "cell_type": "code",
   "execution_count": 42,
   "id": "32797540-490d-4164-b694-fa635db79175",
   "metadata": {},
   "outputs": [],
   "source": [
    "## We could send this to logs or analytics if we wanted to track sentiment over time\n",
    "## e.g. for analysing feedback\n",
    "def sentiment (sentiment=\"\", initialInput=\"\", sentimentScore=0, algorithm=\"chatgpt magic\"):\n",
    "    print(f'sentiment of \"{initialInput}\" is \"{sentiment}\" with score {sentimentScore} using algorithm {algorithm}')\n",
    "\n",
    "## a dictionary of functions keyed by their name. \n",
    "available_functions = {\n",
    "    \"sentiment\":sentiment, \n",
    "}\n",
    "\n",
    "## The function definitions we will send to ChatGPT. The 'parameters' object is defined using JSON Schema.\n",
    "functions = [\n",
    "    {\n",
    "        \"name\" : \"sentiment\",\n",
    "        \"description\": \"Obtain the sentiment for the given input and supply as function argument, along with the input,  a score between -1 and 1 and a short description of the algorithm used \",\n",
    "        \"parameters\" : {\n",
    "            \"type\": \"object\",\n",
    "            \"properties\" : {\n",
    "                \"sentiment\": {\n",
    "                     \"type\":\"string\",\n",
    "                     \"enum\": ['Positive', 'Neutral', 'Negative']\n",
    "                },\n",
    "                \"sentimentScore\": {\n",
    "                     \"type\":\"number\",\n",
    "                },\n",
    "                \"initialInput\": {\n",
    "                    \"type\":\"string\"\n",
    "                },\n",
    "                \"algorithm\": {\n",
    "                    \"type\":\"string\"\n",
    "                }\n",
    "            }\n",
    "        }\n",
    "    }\n",
    "]\n",
    "        "
   ]
  },
  {
   "cell_type": "code",
   "execution_count": 36,
   "id": "c63de082-38e5-4891-9afd-8820ad02ec5d",
   "metadata": {},
   "outputs": [],
   "source": [
    "inputs = [\n",
    "    \"Oh no, another KenWhat meeting to endure\",\n",
    "    \"Great! another  KenWhat meeting to savour\",\n",
    "    \"I am going to listen to two hours of talks with some modest degree of enthusiasm\"\n",
    "]"
   ]
  },
  {
   "cell_type": "code",
   "execution_count": 18,
   "id": "0e761208-8c69-4870-a706-1b38fb1f1dda",
   "metadata": {},
   "outputs": [],
   "source": [
    "messages = [\n",
    " {\n",
    "     \"role\":\"system\",\n",
    "     \"content\":\"Analyse user input returning function arguments\"\n",
    " },\n",
    " {\n",
    "     \"role\": \"user\",\n",
    "     \"content\":\"Replace me\"\n",
    " }\n",
    "]"
   ]
  },
  {
   "cell_type": "code",
   "execution_count": 44,
   "id": "bb2f04ad-269c-4e0e-8c1f-ada72a1717c1",
   "metadata": {},
   "outputs": [
    {
     "name": "stdout",
     "output_type": "stream",
     "text": [
      "{'role': 'assistant', 'content': None, 'function_call': {'name': 'sentiment', 'arguments': '{\\n  \"sentiment\": \"Negative\",\\n  \"sentimentScore\": -0.6,\\n  \"initialInput\": \"Oh no, another KenWhat meeting to endure\",\\n  \"algorithm\": \"Natural Language Processing and Machine Learning Algorithms\"\\n}'}}\n",
      "sentiment of \"Oh no, another KenWhat meeting to endure\" is \"Negative\" with score -0.6 using algorithm Natural Language Processing and Machine Learning Algorithms\n",
      "{'role': 'assistant', 'content': None, 'function_call': {'name': 'sentiment', 'arguments': '{\\n  \"sentiment\": \"Positive\",\\n  \"sentimentScore\": 0.9,\\n  \"initialInput\": \"Great! another  KenWhat meeting to savour\",\\n  \"algorithm\": \"The sentiment was derived from analyzing the positive connotation in words such as \\'Great\\' and \\'savour\\'.\"\\n}'}}\n",
      "sentiment of \"Great! another  KenWhat meeting to savour\" is \"Positive\" with score 0.9 using algorithm The sentiment was derived from analyzing the positive connotation in words such as 'Great' and 'savour'.\n",
      "{'role': 'assistant', 'content': None, 'function_call': {'name': 'sentiment', 'arguments': '{\\n  \"sentiment\": \"Positive\",\\n  \"sentimentScore\": 0.6,\\n  \"initialInput\": \"I am going to listen to two hours of talks with some modest degree of enthusiasm\",\\n  \"algorithm\": \"The sentiment is analysed by identifying words with positive connotations such as \\'enthusiasm\\'. The sentiment score is calculated with consideration to the intensity of these words, and in this case, words like \\'modest\\' had a moderate impact on the score.\"\\n}'}}\n",
      "sentiment of \"I am going to listen to two hours of talks with some modest degree of enthusiasm\" is \"Positive\" with score 0.6 using algorithm The sentiment is analysed by identifying words with positive connotations such as 'enthusiasm'. The sentiment score is calculated with consideration to the intensity of these words, and in this case, words like 'modest' had a moderate impact on the score.\n"
     ]
    }
   ],
   "source": [
    "for input in inputs:\n",
    "    messages[1]['content'] = input\n",
    "    resp = chat_completion_request(messages, functions, function_call={'name':'sentiment'})\n",
    "    \n",
    "    response_message = resp.json()['choices'][0]['message']\n",
    "    print(response_message)\n",
    "    \n",
    "    if 'function_call' in response_message and response_message['function_call'] is not None:\n",
    "        to_call = response_message['function_call']['name']\n",
    "        f_args = json.loads(response_message['function_call']['arguments'])\n",
    "        result = available_functions[to_call](**f_args)\n",
    "\n",
    "    else:\n",
    "        print(f'no function was returned - {response_message[\"content\"]}')\n",
    "    "
   ]
  },
  {
   "cell_type": "code",
   "execution_count": null,
   "id": "696e79ed-e5b7-42c6-b526-40d4af587e8b",
   "metadata": {},
   "outputs": [],
   "source": []
  }
 ],
 "metadata": {
  "kernelspec": {
   "display_name": "Python 3 (ipykernel)",
   "language": "python",
   "name": "python3"
  },
  "language_info": {
   "codemirror_mode": {
    "name": "ipython",
    "version": 3
   },
   "file_extension": ".py",
   "mimetype": "text/x-python",
   "name": "python",
   "nbconvert_exporter": "python",
   "pygments_lexer": "ipython3",
   "version": "3.10.6"
  }
 },
 "nbformat": 4,
 "nbformat_minor": 5
}
