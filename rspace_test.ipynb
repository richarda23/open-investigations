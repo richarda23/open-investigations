{
 "cells": [
  {
   "cell_type": "code",
   "execution_count": 43,
   "id": "de2dca6f-4671-47a3-a292-db7878ac7dbc",
   "metadata": {},
   "outputs": [
    {
     "name": "stdout",
     "output_type": "stream",
     "text": [
      "{'message': 'OK', 'rspaceVersion': '1.91.1'}\n"
     ]
    }
   ],
   "source": [
    "import os\n",
    "from rspace_client.eln import eln\n",
    "import json\n",
    "import openai\n",
    "import requests\n",
    "from tenacity import retry, wait_random_exponential, stop_after_attempt\n",
    "from termcolor import colored\n",
    "\n",
    "eln_cli = eln.ELNClient(os.getenv(\"RSPACE_URL\"), os.getenv(\"RSPACE_API_KEY\"))\n",
    "print(eln_cli.get_status())\n",
    "GPT_MODEL = \"gpt-4\""
   ]
  },
  {
   "cell_type": "code",
   "execution_count": null,
   "id": "e7eeed71-dbbe-425f-93db-379aa7a7da00",
   "metadata": {},
   "outputs": [],
   "source": []
  },
  {
   "cell_type": "code",
   "execution_count": 44,
   "id": "e24da5d1-10cc-44ac-b21c-0c7322803da5",
   "metadata": {},
   "outputs": [
    {
     "name": "stdout",
     "output_type": "stream",
     "text": [
      "Anti-aurora Western\n"
     ]
    }
   ],
   "source": [
    "print(eln_cli.get_documents()['documents'][0]['name'])\n"
   ]
  },
  {
   "cell_type": "code",
   "execution_count": 39,
   "id": "aaf56a05-61e8-4e59-acd8-3baf5f0e7558",
   "metadata": {},
   "outputs": [
    {
     "name": "stdout",
     "output_type": "stream",
     "text": [
      "[]\n"
     ]
    }
   ],
   "source": [
    "docs = eln_cli.get_documents(query='l: lastModified:[2020-01-01 TO *]')['documents']\n",
    "print(list(map(lambda x: f\" {x['name']} - {x['created']}\", docs)))"
   ]
  },
  {
   "cell_type": "code",
   "execution_count": 46,
   "id": "1f43ca3c-261e-497d-b25b-27af658b13e8",
   "metadata": {},
   "outputs": [],
   "source": [
    "@retry(wait=wait_random_exponential(multiplier=1, max=40), stop=stop_after_attempt(3))\n",
    "def chat_completion_request(messages, functions=None, function_call=None, model=GPT_MODEL):\n",
    "    headers = {\n",
    "        \"Content-Type\": \"application/json\",\n",
    "        \"Authorization\": \"Bearer \" + openai.api_key,\n",
    "    }\n",
    "    json_data = {\"model\": model, \"messages\": messages}\n",
    "    if functions is not None:\n",
    "        json_data.update({\"functions\": functions})\n",
    "    if function_call is not None:\n",
    "        json_data.update({\"function_call\": function_call})\n",
    "    try:\n",
    "        response = requests.post(\n",
    "            \"https://api.openai.com/v1/chat/completions\",\n",
    "            headers=headers,\n",
    "            json=json_data,\n",
    "        )\n",
    "        return response\n",
    "    except Exception as e:\n",
    "        print(\"Unable to generate ChatCompletion response\")\n",
    "        print(f\"Exception: {e}\")\n",
    "        return e"
   ]
  },
  {
   "cell_type": "code",
   "execution_count": 104,
   "id": "58d10244-d0c8-4eda-9657-208ceabc1b1a",
   "metadata": {},
   "outputs": [],
   "source": [
    "def search_rspace_eln(luceneQuery, sort_order=\"lastModified desc\"):\n",
    "    q = \"l: \" + luceneQuery\n",
    "    docs = eln_cli.get_documents(query=q, order_by=sort_order)['documents']\n",
    "    print(str.join('\\n\\n', list(map(lambda x: f\" {x['name']} - {x['created']} - {x['tags']}\", docs))))"
   ]
  },
  {
   "cell_type": "code",
   "execution_count": 111,
   "id": "9b2a7342-ed8e-4132-93a9-95dd72ef33e3",
   "metadata": {},
   "outputs": [],
   "source": [
    "available_functions = {\n",
    " \"lucene\":search_rspace_eln\n",
    "}\n",
    "\n",
    "functions = [\n",
    "  {\n",
    "    \"name\": \"lucene\",\n",
    "    \"description\": \"\"\"\n",
    "    A valid Lucene Query Language string generated from user input.\n",
    "    Document fields are name, docTag, fields.fieldData .\n",
    "    Don't use wildcards\n",
    "    \"\"\",\n",
    "    \"parameters\": {\n",
    "        \"type\":\"object\",\n",
    "        \"properties\": {\n",
    "            \"luceneQuery\": {\n",
    "                \"type\":\"string\"\n",
    "            },\n",
    "            \"sort_order\": {\n",
    "                \"type\":\"string\",\n",
    "                \"enum\":[\"name asc\", \"name desc\", \"created asc\", \"created desc\"]\n",
    "            },\n",
    "            \n",
    "        }\n",
    "  }\n",
    "  }\n",
    "]"
   ]
  },
  {
   "cell_type": "code",
   "execution_count": 115,
   "id": "9b6122d1-43a1-4cd0-a466-37009ca67d53",
   "metadata": {},
   "outputs": [],
   "source": [
    "messages = [\n",
    " {\n",
    "     \"role\" : \"system\",\n",
    "     \"content\": \"Generate function arguments from user input. Don't show reasoning.\"\n",
    " },\n",
    " {\n",
    "     \"role\" : \"user\",\n",
    "     \"content\": \"Find documents that are tagged with 'polyclonal', or contains 'Ben' (but not wyvis) in the text. List results in reverse alphabetical order\"\n",
    " }\n",
    "    \n",
    "]"
   ]
  },
  {
   "cell_type": "code",
   "execution_count": 116,
   "id": "7e574166-0724-45ae-958e-14161457bc7f",
   "metadata": {},
   "outputs": [
    {
     "name": "stdout",
     "output_type": "stream",
     "text": [
      "<Response [200]>\n",
      "{\n",
      "  \"role\": \"assistant\",\n",
      "  \"content\": null,\n",
      "  \"function_call\": {\n",
      "    \"name\": \"lucene\",\n",
      "    \"arguments\": \"{\\n  \\\"luceneQuery\\\": \\\"docTag:polyclonal OR (fields.fieldData:Ben NOT fields.fieldData:wyvis)\\\",\\n  \\\"sort_order\\\": \\\"name desc\\\"\\n}\"\n",
      "  }\n",
      "}\n",
      " West Ben Lawers range - 2019-12-01T11:10:45.498Z - None\n",
      "\n",
      " Generation of anti-aurora antibodies - 2023-09-11T19:49:28.418Z - polyclonal\n",
      "\n",
      " ben vorlich (Arrochar) - 2019-12-01T10:51:13.585Z - None\n",
      "\n",
      " Ben Dorain, Ben an Dothaidh - 2018-12-29T21:53:39.369Z - None\n",
      "\n",
      " Ben Chonzie - 2018-02-18T22:54:48.925Z - munro\n",
      "\n",
      " Ben Challum - 2018-07-08T19:00:24.247Z - None\n",
      "\n",
      " Beinn Teallach, A'Chaorainn - 2018-02-18T23:00:49.638Z - munro\n",
      "\n",
      " Beinn a Ghlo - 2018-12-29T21:59:58.827Z - None\n",
      "\n",
      " Anti-aurora Western - 2023-09-11T19:43:38.318Z - Western,aurora,ECL,polyclonal\n"
     ]
    }
   ],
   "source": [
    "resp = chat_completion_request(messages, functions, {'name':'lucene'})\n",
    "print(resp)\n",
    "response_message = resp.json()['choices'][0]['message']\n",
    "print(json.dumps(response_message, indent=2))\n",
    "if response_message['function_call'] is not None:\n",
    "    f_name = response_message['function_call']['name']\n",
    "    f_args = json.loads(response_message['function_call']['arguments'])\n",
    "    result = available_functions[f_name](**f_args)"
   ]
  },
  {
   "cell_type": "code",
   "execution_count": null,
   "id": "edc9555f-99f6-4a3d-80e0-cb61aaf7a32e",
   "metadata": {},
   "outputs": [],
   "source": []
  }
 ],
 "metadata": {
  "kernelspec": {
   "display_name": "Python 3 (ipykernel)",
   "language": "python",
   "name": "python3"
  },
  "language_info": {
   "codemirror_mode": {
    "name": "ipython",
    "version": 3
   },
   "file_extension": ".py",
   "mimetype": "text/x-python",
   "name": "python",
   "nbconvert_exporter": "python",
   "pygments_lexer": "ipython3",
   "version": "3.10.6"
  }
 },
 "nbformat": 4,
 "nbformat_minor": 5
}
