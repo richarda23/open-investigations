{
 "cells": [
  {
   "cell_type": "code",
   "execution_count": 1,
   "id": "0e235922-9c5a-4a90-92a0-ac768dee6be6",
   "metadata": {},
   "outputs": [],
   "source": [
    "from langchain.document_loaders.web_base import WebBaseLoader"
   ]
  },
  {
   "cell_type": "code",
   "execution_count": 2,
   "id": "cd6bb89c-894a-499d-992d-fb617c73d382",
   "metadata": {},
   "outputs": [
    {
     "data": {
      "text/plain": [
       "[Document(page_content='\\n\\n\\nRSpace Help\\n\\n\\n\\n\\n\\n\\n\\n\\n\\n\\n\\n\\n\\n\\n\\n\\n\\n\\n\\n\\n\\n\\n\\n\\n\\n\\n\\n\\n\\n\\n\\n\\n\\n\\n\\n\\n\\n\\n\\n\\n\\n\\n\\n\\n                        Contact us\\n                      \\n\\n\\n\\n                        RSpace Website\\n                      \\n\\n\\nContact\\n\\n\\n\\n\\n\\n\\n\\n\\n\\n\\n\\n\\n\\n\\n\\n\\n\\n\\n\\n\\n\\n\\n\\n\\n\\n\\n\\n\\n\\n\\n\\n              \\t\\t\\t\\tTop Articles\\n              \\t\\t\\t\\n\\n\\n\\n\\n\\n\\n            \\t\\t\\t\\t            Getting Started with RSpace ELN\\n              \\t\\t\\t\\t\\t\\t\\t\\t\\nThis document provides guidance on help articles relevant for getting started, and where to access help resources. If you need further support, please get in touch through Intercom (\"Chat with us\" op…\\n\\n\\n\\n\\n\\n\\n\\n\\n\\n            \\t\\t\\t\\t            Setting up Single Sign-On Authentication\\n              \\t\\t\\t\\t\\t\\t\\t\\t\\nThis article provides detailed documentation on setting up SSO for RSpace. It applies equally to both on-premises and SaaS deployments. RSpace supports two SSO technologies SAML2 LDAP. SAML2 setup. M…\\n\\n\\n\\n\\n\\n\\n\\n\\n\\n            \\t\\t\\t\\t            Deploying RSpace\\n              \\t\\t\\t\\t\\t\\t\\t\\t\\nThe following information is only applicable to a Team or Enterprise Editions of RSpace. Scope and intended audience. This document is for IT staff at an organisation that is considering purchasing,…\\n\\n\\n\\n\\n\\n\\n\\n\\n            \\t\\t\\tAll Categories\\n            \\t\\t\\n\\n\\n\\n\\n\\n\\nFor Researchers\\nDocumentation for Researchers (creating & editing documents, integrations, collaboration)\\n\\n\\n\\n\\n                                93\\n                                  articles\\n                                by\\n                                2\\n                                  authors\\n                              \\n\\n\\n\\n\\n\\n\\n\\n\\n\\n\\nFor System Administrators\\nDocumentation for System Administration (RSpace Enterprise)\\n\\n\\n\\n\\n\\n                                34\\n                                  articles\\n                                by\\n                                3\\n                                  authors\\n                              \\n\\n\\n\\n\\n\\n\\n\\n\\n\\n\\nFor PIs\\nDocumentation for Principal Investigators (lab management, lab collaboration, groups)\\n\\n\\n\\n\\n                                13\\n                                  articles\\n                                by\\n                                2\\n                                  authors\\n                              \\n\\n\\n\\n\\n\\n\\n\\n\\n\\n\\nFor Developers (RSpace API)\\nAPI Documentation for developers (configuration, client code examples)\\n\\n\\n\\n\\n                                7\\n                                  articles\\n                                by\\n                                2\\n                                  authors\\n                              \\n\\n\\n\\n\\n\\n\\n\\n\\n\\n\\nFAQ, Changelog & Miscellaneous\\nFrequently Asked Questions, Changelog, Glossary\\n\\n\\n\\n                                14\\n                                  articles\\n                                by\\n                                1\\n                                  author\\n                              \\n\\n\\n\\n\\n\\n\\n\\n\\n\\n\\nVideos\\nGuidance videos for Researchers, PIs and System Administrators\\n\\n\\n\\n                                83\\n                                  articles\\n                                by\\n                                1\\n                                  author\\n                              \\n\\n\\n\\n\\n\\n\\n\\n\\n\\n\\nArchive\\nArticles that pertain to older releases of RSpace\\n\\n\\n\\n                                1\\n                                  article\\n                                by\\n                                1\\n                                  author\\n                              \\n\\n\\n\\n\\n\\n\\n\\n\\n\\n\\nFor on-prem customers technical staff\\nDocuments pertaining to installation and maintenance of RSpace services\\n\\n\\n\\n                                4\\n                                  articles\\n                                by\\n                                1\\n                                  author\\n                              \\n\\n\\n\\n\\n\\n\\n\\n\\n\\n\\nInventory\\nDocumentation for our sample and inventory management system.\\n\\n\\n\\n\\n                                30\\n                                  articles\\n                                by\\n                                2\\n                                  authors\\n                              \\n\\n\\n\\n\\n\\n\\n\\n\\n\\n\\n(opens in a new tab)\\n\\n\\n\\nPowered by HelpDocs\\n(opens in a new tab)\\n\\n\\n\\n\\n\\n\\n\\n\\n\\n\\n\\n×\\n\\nContact\\n\\n\\n\\n\\n\\n\\n\\n\\n\\n\\n\\n\\n\\n\\nSend\\n\\n\\n\\n\\n\\n\\n\\n\\n\\n\\n\\n\\n\\n\\n\\n\\n', metadata={'source': 'https://documentation.researchspace.com', 'title': 'RSpace Help', 'description': 'RSpace is the next generation connected ELN. Need help? Browse through our help pages.', 'language': 'en'})]"
      ]
     },
     "execution_count": 2,
     "metadata": {},
     "output_type": "execute_result"
    }
   ],
   "source": [
    "loader = WebBaseLoader(web_path=\"https://documentation.researchspace.com\")\n",
    "loader.load()"
   ]
  },
  {
   "cell_type": "code",
   "execution_count": 11,
   "id": "b5093ee4-2a5a-448a-9590-893fa8644023",
   "metadata": {},
   "outputs": [
    {
     "name": "stdout",
     "output_type": "stream",
     "text": [
      "['/category/24blgg0ojn-for-researchers', '/category/2nmldxv391-for-admins', '/category/d7noxvp16k-for-pis', '/category/ifpi5pwbck-for-developers', '/category/l69h6lsuk4-faqs', '/category/m5118puefw-videos', '/category/01era8o0gc-archive', '/category/4yye22t49h-for-technical-staff', '/category/zpizk20kgx-inventory']\n",
      "following /category/24blgg0ojn-for-researchers. Current article count is 0\n",
      "found 8 new articles, continuing\n",
      "following /category/2nmldxv391-for-admins. Current article count is 8\n",
      "found 11 new articles, continuing\n",
      "following /category/d7noxvp16k-for-pis. Current article count is 19\n",
      "found 2 new articles, continuing\n",
      "following /category/ifpi5pwbck-for-developers. Current article count is 21\n",
      "found 7 new articles, continuing\n",
      "following /category/l69h6lsuk4-faqs. Current article count is 28\n",
      "found 14 new articles, continuing\n",
      "following /category/m5118puefw-videos. Current article count is 42\n",
      "following /category/01era8o0gc-archive. Current article count is 42\n",
      "found 1 new articles, continuing\n",
      "following /category/4yye22t49h-for-technical-staff. Current article count is 43\n",
      "found 4 new articles, continuing\n",
      "following /category/zpizk20kgx-inventory. Current article count is 47\n",
      "found 30 new articles, continuing\n",
      "following /category/9ft775hnpr-general-research. Current article count is 77\n",
      "following /category/vwojumarsd-system-entities. Current article count is 77\n",
      "found 4 new articles, continuing\n",
      "following /category/n7sk8miumy-managing-system. Current article count is 81\n",
      "found 6 new articles, continuing\n",
      "following /category/d6fmbuq02u-on-prem-it-maintenance. Current article count is 87\n",
      "found 5 new articles, continuing\n",
      "following /category/vjdenf2eb5-app-configuration. Current article count is 92\n",
      "found 6 new articles, continuing\n",
      "following /category/lyvv50ovgw-lab-management. Current article count is 98\n",
      "found 5 new articles, continuing\n",
      "following /category/2hj0wjouxy-groups. Current article count is 103\n",
      "found 4 new articles, continuing\n",
      "following /category/5uwnkdtamd-data-management. Current article count is 107\n",
      "found 2 new articles, continuing\n",
      "following /category/hgckfl3nxz-videos-researchers. Current article count is 109\n",
      "found 70 new articles, continuing\n",
      "following /category/56jlmyjrqs-videos-pis. Current article count is 179\n",
      "found 12 new articles, continuing\n",
      "following /category/ea2vnbjtzo-videos-sysadmins. Current article count is 191\n",
      "found 1 new articles, continuing\n",
      "following /category/zvooz25ejp-creating-docs. Current article count is 192\n",
      "found 3 new articles, continuing\n",
      "following /category/zis8mfeq9f-entering-content. Current article count is 195\n",
      "found 13 new articles, continuing\n",
      "following /category/69bvjwrxrt-integrations. Current article count is 208\n",
      "found 26 new articles, continuing\n",
      "following /category/4mr3q32xky-export-work. Current article count is 234\n",
      "found 10 new articles, continuing\n",
      "following /category/7wahs1c3q0-reusing-content. Current article count is 244\n",
      "found 2 new articles, continuing\n",
      "following /category/ioo3sxj2ux-org-and-search. Current article count is 246\n",
      "found 7 new articles, continuing\n",
      "following /category/kyscx3izi1-using-files-in-docs. Current article count is 253\n",
      "found 6 new articles, continuing\n",
      "following /category/l4z6tbg131-dealing-with-images. Current article count is 259\n",
      "found 4 new articles, continuing\n",
      "following /category/x5bsqmy409-config-rspace. Current article count is 263\n",
      "found 5 new articles, continuing\n",
      "following /category/2jnsh60x9r-collaboration. Current article count is 268\n",
      "found 6 new articles, continuing\n",
      "following /category/hfi4mfns4n-communication. Current article count is 274\n",
      "found 3 new articles, continuing\n",
      "following /category/3roe5yxh2g-search. Current article count is 277\n",
      "found 2 new articles, continuing\n",
      "['/article/pfsj1e1u7j-getting-started', '/article/68fqe07pqj-setting-up-single-sign-on-authentication', '/article/74oio40i7i-deploying-rspace', '/article/kcs0dwj00j-roles-and-capabilities-for-enterprise', '/article/21owia8gto-verification-passwords', '/article/5ken13arvl-unpublishing-documents', '/article/bzgr8ea9e3-the-workspace', '/article/lqxsej13hv-publication-of-documents', '/article/synt32wb12-system-administration-introduction', '/article/q5dl9e6oz6-system-requirements-for-research-space', '/article/2eb78u0ddj-linking-to-files-on-aws-s-3', '/article/bk9ap372vv-setting-up-multiple-rspace-accounts-with-the-same-sso-identity', '/article/c9udfvu37v-setting-up-ldap-based-single-sign-on', '/article/eguat2hh1m-creating-a-backdoor-login-account', '/article/ehcxuahhds-configuring-institutional-file-systems', '/article/ffsn1lc0qi-migrating-file-store-to-a-new-location', '/article/flc0yyy06o-how-does-rspace-store-files', '/article/kd7f5n723i-managing-published-content', '/article/mhjve3gm4w-exporting-to-s-3', '/article/9l076q43fp-the-pi-role-and-capabilities', '/article/njlhemox1m-enabling-publication-of-documents-in-your-lab-group', '/article/v0dxtfvj7u-rspace-api-introduction', '/article/oz02ygufnj-api-configuration-and-setup', '/article/5w4340s25r-api-client-code-examples', '/article/jjyucv382x-api-swagger-documentation', '/article/igqs8z51f7-api-error-codes', '/article/dj4l39d70d-api-changelog', '/article/gvnduz7um5-api-data-model', '/article/mx11qvqg0i-changelog', '/article/xw0ds8tee1-faq', '/article/tbsrbhe52p-glossary', '/article/njhp428yqo-contact-support', '/article/0xw203yexx-support-panel', '/article/5g6u3svcqa-teaching-licenses-education-server', '/article/8fzrfsbc5e-rspace-editions', '/article/8rvu1qoto0-privacy', '/article/ge01ts0xt2-security', '/article/pzqrfglxzc-losing-data', '/article/tziixc3nka-compliance-governance', '/article/uwl07taw54-falsification', '/article/v8nnbf34ov-sharing-data-with-non-rspace-users', '/article/w537b5kca0-saa-s-backup-procedures', '/article/jtszlzscq9-rspace-1-69-33-update-notes', '/article/24bc15glrj-legacy-aspose-msoffice-document-converter', '/article/5k7qib0n3t-installation-of-rspace-add-on-services', '/article/ezjz0s50a2-manual-smoke-tests', '/article/tjo3kobmzb-additional-useful-articles-for-it-staff', '/article/dagfzhl3yw-rspace-inventory-hub', '/article/tffkwcpizj-get-started-with-inventory', '/article/3zs9yruit2-inventory-api-introduction', '/article/4zlnulbved-add-a-note-to-a-subsample', '/article/76q8hkdp2w-e-cat', '/article/82z5agdkaf-manage-default-sample-templates', '/article/a5zm2c3vtw-import-samples-into-inventory', '/article/bt6kx098eq-navigate-inventory', '/article/c8sxesdqpy-create-and-use-sample-templates', '/article/cdrc4ed67l-using-inventory-lists-of-materials-in-eln', '/article/dncoti2i4t-moving-samples-and-containers', '/article/e0fngo8a5s-search-inventory', '/article/e5v4bvcl61-create-a-container', '/article/gb3r1lgm5g-create-a-sample', '/article/h2slyj0p2z-link-to-a-sample-or-container-global-id', '/article/hopiwkkl7s-customise-axis-labels-for-grid-containers', '/article/junp6jtyjm-select-items-in-inventory', '/article/jya8j336dt-edit-locations-in-visual-containers', '/article/n09nmg4ax7-sharing-in-inventory', '/article/n97rij30uv-toggle-inventory-and-container-views', '/article/nr29uf0fdr-scan-and-use-barcodes', '/article/ory7fu1uw9-add-a-file-attachment-to-an-inventory-item', '/article/qif3m0e19r-export-inventory-data-to-csv', '/article/tm697lpj3s-editing-quantities-in-list-of-materials', '/article/v791uctw7z-use-benches-in-inventory', '/article/wnz5kb6pjw-add-a-custom-field', '/article/x4y02hje72-edit-a-sample-or-container', '/article/2820j4wufz-creating-and-using-baskets', '/article/0wh5ziurr5-add-igsn-identifiers-to-your-samples', '/article/anw1yh0yw1-research-space-inventory-manager-rsinv-glossary', '/article/u64gd6gr70-create-new-users', '/article/1p1ho3denx-creating-groups', '/article/4ae58w26xs-creating-communities', '/article/sog4pcrfr5-batch-registration', '/article/xjg8g1afc0-managing-users', '/article/b6w17h3sk7-maintenance-error-logs-and-monitoring', '/article/ld3gwubw43-ldap-integration', '/article/pxja5j5yzi-system-wide-search', '/article/pc1e7rgnet-resetting-a-user-s-password-for-system-admins', '/article/qrghmmve8x-leaving-rspace', '/article/8227upbcbh-advice-for-performing-backups-on-prem-installations', '/article/amien2cfa1-updating-ssl-certificates-on-prem-installations', '/article/bgccoijixa-rspace-new-license-server', '/article/6pq23gr8ia-other-useful-articles-for-it-staff', '/article/lvgvsqybwf-updating-from-open-jdk-11-lts-to-open-jdk-17-lts', '/article/mizrma99c9-introduction-to-configuring-rspace-apps', '/article/4a8qb3rc46-setting-up-integration-with-figshare-repository', '/article/9pvuh7gsf6-setting-up-protocols-io-integration', '/article/k2pvgvlqdo-setting-up-rspace-owncloud-integration', '/article/p5ugu3r0jx-setting-up-orcid-integration', '/article/pghzafz8tr-setting-up-rspace-google-drive-app', '/article/8qekgz9y5b-the-lab-admin-role', '/article/ytvodtqcte-viewing-and-organising-group-work', '/article/fsdpd22qpo-view-and-search-the-audit-trail', '/article/s6rcvpnb5w-exporting-a-lab-group-s-work', '/article/pjqubdqymg-examples-of-sharing-scenarios-and-project-organisation', '/article/l72tg5rzze-collaboration-between-labs', '/article/4hbuoog1vp-creating-a-new-lab-group', '/article/gcqaj2hwoc-lab-group-projects', '/article/v699b2dj83-general-information-on-lab-groups', '/article/f9rd3ciz91-signing-and-witnessing', '/article/8zjevv3afj-long-term-data-management', '/article/0jmxmap5ut-video-2-minute-rspace-introduction', '/article/csgl2jzawt-video-introduction-to-rspace', '/article/2lds1wxdgp-video-chemistry-data-sheets-in-rspace', '/article/baf3uxfzyc-video-using-messages-as-reminders', '/article/rll47alru5-video-improved-box-integration', '/article/uq5gbnz6zw-video-creating-documents-from-ms-word', '/article/wtkk40r9jh-video-rspace-full-training-video', '/article/lzys7lzu4r-create-a-document', '/article/ua4r9xzm0y-video-create-a-notebook', '/article/3axd6k6rda-video-use-the-search-tool', '/article/7l76yjfz2p-video-search-the-gallery-in-rspace', '/article/xbca81rbxo-video-linking-to-your-content-in-mendeley', '/article/kzvwakwtcd-video-microsoft-teams-integration', '/article/ltlyq3uniz-video-exporting-documents-as-ms-word', '/article/2tdj1w2wa6-video-insert-attachments', '/article/19v1x55396-video-manage-messages-in-rspace', '/article/3ii7xbir95-video-manage-file-information-in-rspace', '/article/7dv0on9ud2-video-create-an-audit-report-in-rspace', '/article/7yjm2v0km2-video-format-text-in-rspace', '/article/4wejnpo32n-video-inline-viewing-of-common-file-types', '/article/88gutla4hl-video-switch-document-modes-in-rspace', '/article/a6o7nzuwh5-video-using-one-drive-with-rspace', '/article/afkp63sbus-video-annotate-images-in-rspace', '/article/ah7bu294wk-video-export-documents-as-pdfs-in-rspace', '/article/bhtjzdeb7r-video-create-a-form-in-rspace', '/article/s6tpypruqv-video-protocols-io-integration', '/article/0timztdxf0-video-dataverse-integration', '/article/56it9n17ka-video-figshare-integration', '/article/c50qrqhay9-video-orcid-integration', '/article/c5yuaw0uqi-video-git-hub-integration', '/article/elqjjcrjfy-video-save-your-work-in-rspace', '/article/ephm0fse8d-video-work-with-templates', '/article/ezd9gzf33k-video-work-with-tables-in-rspace', '/article/gkrs9uzdy1-video-use-the-text-editor-in-rspace', '/article/h0p75h1jc5-video-search-for-structures-in-rspace', '/article/hbpj3onjnb-video-high-res-images', '/article/hohfmcv2op-manage-permissions-in-rspace', '/article/i0jlg8swmt-video-copy-tabular-data-in-rspace', '/article/i2lwuf7mri-video-annotating-images-in-rspace', '/article/j7j8k4oxcb-video-add-rspace-to-the-i-pad', '/article/lsh6dl05av-video-import-an-archive', '/article/mcun6rakji-video-use-workspace-filters-in-rspace', '/article/nj2oifk6o4-manage-your-profile-in-rspace', '/article/ntt91o8lzj-video-edit-shared-documents-in-rspace', '/article/oyk3k0l8u2-video-slack-integration-for-rspace', '/article/pagmyji3p2-video-round-trip-editing-in-ms-word', '/article/pgdvc0sqwv-video-draw-molecules-in-rspace', '/article/q2hpu437dm-video-tag-a-document-in-rspace', '/article/q4f5qf03hg-video-share-content-into-folders-in-rspace', '/article/s029yhlos6-video-restore-documents-in-rspace', '/article/svo71qi5ht-video-export-files-in-rspace', '/article/wzy8ypo5br-video-manage-gallery-files', '/article/xgqr4cwwuu-video-manage-documents-in-rspace', '/article/y0ju05ei9y-video-organize-documents-in-rspace', '/article/yf8ot50ymf-video-link-external-documents', '/article/yuusjb2lyw-video-create-a-snippet-in-rspace', '/article/yw7289c3mr-video-building-a-notebook-page-in-rspace', '/article/zvpxtb4jnr-video-rspace-apps', '/article/4o1rmm65e3-video-using-rspace-on-mobile-devices', '/article/zdhg6r5o6g-video-use-the-directory', '/article/m64sv44ex6-video-insert-a-sketch', '/article/b8yn3edhhs-video-update-attachments', '/article/2zjuvm7d3n-video-publish-a-pdf', '/article/l9uw10pldz-video-use-the-gallery-in-rspace', '/article/2ivfa1ouli-video-set-up-e-cat-to-use-with-rspace', '/article/jdttwkcsp3-video-setup-rspace-to-use-with-e-cat', '/article/08rxqqbkcq-video-linking-e-cat-aliquots-to-rspace-experiments', '/article/iy8rfjv8s1-video-copy-search-links-from-e-cat-into-rspace', '/article/d0f9cb8w5u-video-manage-containers-in-e-cat', '/article/po6cgpow1n-video-sharing-or-moving-documents-into-notebooks', '/article/4f5ny2iq7j-video-getting-started-with-rspace-for-pis', '/article/hc2r413psw-video-create-a-group-in-rspace', '/article/bpo6mrpe1w-video-manage-groups-in-rspace', '/article/eq12ylh5uz-video-share-documents-in-rspace', '/article/g309blinbg-video-assign-user-roles-in-rspace', '/article/qt3gkcvaqb-video-manage-users-in-rspace', '/article/24zwty9gvx-video-manage-shared-folders-in-rspace', '/article/3pojabjtwv-video-sign-a-document-in-rspace', '/article/as0jepdank-video-review-documents-in-rspace', '/article/sl2qw7jai8-video-collaborate-with-other-labs-using-rspace', '/article/ag1ppyeven-video-create-a-pi-audit-report-in-rspace', '/article/spqmghkzm5-video-export-lab-work-in-rspace', '/article/3yx5m9r9is-video-linking-rspace-eln-to-datastore-at-university-of-edinburgh', '/article/6ya3bmhdeq-creating-documents', '/article/ptqn8pr7xw-notebooks', '/article/rozak8tlwr-forms', '/article/6jxk3unhup-the-document-editor', '/article/jxvg9s9vmc-saving-options', '/article/t3mzbo7k8g-the-text-editor', '/article/4jn2mu08x3-inline-viewing-of-word-excel-powerpoint-and-open-office-files', '/article/rsnu9ir7zo-code-syntax-highlighting', '/article/xvurl7tmg3-la-te-x-examples-for-equation-editor', '/article/xg5w4dbdj4-drawing-chemical-structures', '/article/ueko3s85qd-using-science-tools', '/article/2jg6zmvond-sketching', '/article/7wh1nm3nnz-calculations-table', '/article/keeqqly0pu-tooltips', '/article/fn4zailsuu-equation-editor', '/article/oahktejkfc-adding-anchor-links-to-documents', '/article/08ky7o0l1y-apps-introduction', '/article/h14qd5tvjj-dataverse-integration', '/article/nid9q64pas-protocols-io-integration', '/article/xzl67qwtu6-egnyte-secure-file-store-integration-for-enterprise', '/article/j2z5f5r90q-cloud-store-integrations', '/article/v8ss2uso0a-own-cloud-integration', '/article/y2080yw30x-git-hub-integration', '/article/ir4ybsamcn-figshare-integration', '/article/yhkbtnj61a-orcid-integration', '/article/74r6scvv8g-slack-integration', '/article/i95u9itfgu-microsoft-teams', '/article/wfxm4xwtio-chemaxon-integration', '/article/5xqzm36v9t-video-round-trip-data-analysis-using-jupyter-notebook-and-the-rspace-api', '/article/8i37k8kjqz-zenodo', '/article/9kkeooveia-py-rat-integration', '/article/bwwbpkll90-omero-integration', '/article/cdzdub1ykw-embedding-video-content-from-youtube', '/article/e6pb7y8ak1-clustermarket-integration', '/article/i1xvubndhm-dryad-integration', '/article/kepbmgy3zr-snapgene-integration', '/article/mopbqzzdf5-setting-up-jove-integration', '/article/na3hn8ilee-nextcloud', '/article/o0wlhlgxnr-dmptool-integration', '/article/piybwff87v-integrations-list-availability', '/article/vkd8mt2ffb-argos-integration', '/article/xt21074dln-i-rods-integration', '/article/yzmxd9gwio-import-new-documents-from-word', '/article/l2qza84oj1-importing-updated-documents-from-word', '/article/9ckpmfdq8m-import-from-evernote', '/article/hd5fanuzsu-exporting-to-word', '/article/25mt56kamf-export-options', '/article/s3j29if453-export-formats', '/article/goc3pkarp2-archiving-and-export', '/article/cs72z7rv36-importing-content-into-rspace', '/article/eavzykv02m-migrating-data-from-community-or-test-server', '/article/w8f6vw205a-export-report-and-filestore-links', '/article/wxfk9gf0a0-templates', '/article/k3n2finouw-snippets', '/article/x78v66cjv7-workspace-views-and-filters', '/article/5u1mrqo2o6-file-info-button', '/article/lbnhir1nrx-captions', '/article/k54kh5pl35-calendar', '/article/z0cvm5dktn-responsive-tree-view', '/article/4sxp7dvmi1-revisions-and-deletions', '/article/8ujmvpa1no-tagging-documents', '/article/sl6mo1i9do-the-gallery', '/article/piq66pxpcr-inserting-attachments', '/article/22ntii8vzc-file-store-integration-for-enterprise', '/article/03lhu11jbq-supported-file-types', '/article/qh9dir1vrf-editing-microsoft-office-attachments-for-office-365-users', '/article/tlcncnoku0-viewing-and-editing-attachments-in-collabora-online', '/article/h19klzvqvf-inserting-images', '/article/jonic732ex-viewing-images', '/article/mq3714328x-image-annotation', '/article/l0lf7vthm4-editing-images', '/article/oeqatd01os-my-profile-your-rspace-identity', '/article/fto6e549z1-my-profile-authentication-and-security', '/article/f0sd2zcyjj-adding-a-profile-picture', '/article/gch2014hdr-roles-and-permissions', '/article/2cdxp5ggs0-auditing-user-actions', '/article/05aztanmaq-lab-groups-and-group-sharing', '/article/670gqzp70x-finding-other-users', '/article/km1bhfdfgq-sharing-a-folder-s-contents', '/article/mykfdrlrnq-open-lab-autosharing', '/article/opwahs2j07-share-content-documents-folders-notebooks', '/article/sb3sgysmlr-project-groups', '/article/4ouo26c50v-to-do-lists', '/article/3riujcf4p6-messaging', '/article/7ub38rzhn4-chat', '/article/x73gwo96go-search-basics', '/article/k919di8naq-advanced-searching']\n"
     ]
    }
   ],
   "source": [
    "import requests\n",
    "from bs4 import BeautifulSoup\n",
    "from typing import List, Set\n",
    " \n",
    "base_url = 'https://documentation.researchspace.com'\n",
    "\n",
    "def get_links_from(path:str)->List[str]:\n",
    "    url = f\"{base_url}{path}\"\n",
    "    reqs = requests.get(url)\n",
    "    soup = BeautifulSoup(reqs.text, 'html.parser')\n",
    "    return soup.find_all('a')\n",
    "\n",
    "def sort_pages(links, cat_urls, articles_urls, art_seen: Set, cat_seen: Set):\n",
    "    for link in links:\n",
    "        url = link.get('href')\n",
    "        if url.startswith(\"/article\") and  url not in art_seen:\n",
    "            articles_urls.append(url)\n",
    "            art_seen.add(url)\n",
    "        if url.startswith(\"/category\") and url not in cat_seen:\n",
    "            cat_urls.append(url)\n",
    "            cat_seen.add(url)\n",
    "\n",
    "links = get_links_from(\"/\")\n",
    "articles_urls = []\n",
    "cat_urls = []\n",
    "art_seen =set()\n",
    "cat_seen =set()\n",
    "sort_pages(links, cat_urls, articles_urls, art_seen, cat_seen)\n",
    "print (cat_urls)\n",
    "\n",
    "found_articles = 0\n",
    "for link in cat_urls:\n",
    "    print(f\"following {link}. Current article count is {found_articles}\")\n",
    "    links = get_links_from(link)\n",
    "    sort_pages(links, cat_urls, articles_urls, art_seen, cat_seen)\n",
    "    if len(articles_urls) > found_articles:\n",
    "        print (f\"found {len(articles_urls) - found_articles} new articles, continuing\")\n",
    "        found_articles = len(articles_urls)\n",
    "print (articles_urls)\n",
    "    "
   ]
  },
  {
   "cell_type": "code",
   "execution_count": 12,
   "id": "e1fd1b79-8348-48a6-80a1-dee4cf423045",
   "metadata": {},
   "outputs": [],
   "source": [
    "full_urls = [f\"{base_url}{url}\" for url in articles_urls]"
   ]
  },
  {
   "cell_type": "code",
   "execution_count": 18,
   "id": "138ce053-d1b3-40a1-be22-745aa63a13ae",
   "metadata": {},
   "outputs": [],
   "source": [
    "loader = WebBaseLoader(web_paths=full_urls)\n",
    "docs = loader.load()"
   ]
  },
  {
   "cell_type": "code",
   "execution_count": 19,
   "id": "5db0930f-7670-4080-a259-77a9f638b420",
   "metadata": {},
   "outputs": [
    {
     "data": {
      "text/plain": [
       "279"
      ]
     },
     "execution_count": 19,
     "metadata": {},
     "output_type": "execute_result"
    }
   ],
   "source": [
    "len(docs)\n"
   ]
  },
  {
   "cell_type": "code",
   "execution_count": 20,
   "id": "afaf1225-0d2a-4f10-8703-a1c2cbbd13da",
   "metadata": {},
   "outputs": [
    {
     "data": {
      "text/plain": [
       "279"
      ]
     },
     "execution_count": 20,
     "metadata": {},
     "output_type": "execute_result"
    }
   ],
   "source": [
    "len(set(articles_urls))"
   ]
  },
  {
   "cell_type": "code",
   "execution_count": 21,
   "id": "cc3f20d6-b7c5-43e4-9002-5ab02d3a3ea9",
   "metadata": {},
   "outputs": [],
   "source": [
    "x = sum([len(doc.page_content) for doc in docs])"
   ]
  },
  {
   "cell_type": "code",
   "execution_count": 27,
   "id": "be839883-f356-49fa-8950-fd33acaf609a",
   "metadata": {},
   "outputs": [
    {
     "data": {
      "text/plain": [
       "'\\n\\n\\nUsing Inventory Lists of Materials in the ELN 🧪 - RSpace Help\\n\\n\\n\\n\\n\\n\\n\\n\\n\\n\\n\\n\\n\\n\\n\\n\\n\\n\\n\\n\\n\\n\\n\\n\\n\\n\\n\\n\\n\\n\\n\\n\\n\\n\\n\\n\\n\\n\\n\\n\\n\\n\\n\\n\\n\\n\\n                        Contact us\\n                      \\n\\n\\n\\n                        RSpace Website\\n                      \\n\\n\\nContact\\n\\n\\n\\n\\n\\n\\n\\n\\n\\n\\n\\n\\n\\n\\n\\n\\n\\n\\n\\n\\n\\n\\n\\n\\n\\n\\n\\n\\n\\n\\n\\n\\n\\n                    All Categories\\n                  \\n                  \\u200b > \\u200b\\n                    \\n\\n\\u200bInventory\\n\\n\\n                  \\u200b > \\u200b\\n                    \\xa0\\n                  \\xa0\\xa0Using Inventory Lists of Materials in the ELN 🧪\\n                \\n\\n\\n\\n\\n\\n\\nUsing Inventory Lists of Materials in the ELN 🧪\\n\\n\\n\\n\\n                            Updated 5 months ago\\n                          \\n\\n                            by\\n                            Vaida\\n                          \\n\\n\\nOverviewAdd a List of Materials to an ELN document fieldAdd Items to a List of MaterialsMove Items in a List of Materials to your BenchRemove Items from a List of MaterialsEdit the Consumed and Inventory Quantities of an ItemOpen a List in a New WindowDelete a List of MaterialsPrint a Document with Lists of MaterialsPrint or Download a List of Materials on its ownExport a List of Materials as CSVViewing documents associated with an item in InventoryInventory is available to all existing and new Team and Enterprise customers at no extra cost, learn more at the RSpace Inventory Hub.OverviewBy adding Lists of Materials to documents in the ELN, you can easily associate Inventory items to the experimental write-up in which they were used. The List of Materials feature enables tight integration between the ELN and Inventory, enhancing traceability and reproducibility of your work. What is more, Lists of Materials are automatically included when printing ELN documents, and can also be printed out on their own.The purpose of a List Of Materials is two-fold:To link experiments with samples, in order to aid experimental reproducibility and provenance.To easily update quantities of Inventory items while editing an ELN document.Note that:Lists of Materials are linked to document fields, and each field can have multiple lists linked to it.Individuals with view-only permissions to a document will only be able to view the List, not edit it.Add a List of Materials to an ELN document fieldTo add a List of Materials to a document:Open a document in RSpace ELN. Each text field will have a button for adding a List of Materials to it. Each of many fields in a document can have multiple lists, providing flexibility in how best to organise the lists in a document.You can give the list a custom name and description, to help differentiate between various lists.Click on Add items to start populating the list.This will open the Inventory Picker. You can then browse samples, subsamples, and containers, and select items to add to this list. The searching and selection works exactly like in Inventory: see Search Inventory and Select Items in Inventory. Once you are happy with your selection, click Choose. You can always add or remove items later.To view others\\' Benches, use the benches search option.Your chosen items have been added to the List of Materials table, which includes basic information such as the item\\'s location, Global ID, owner, and the consumed and Inventory quantities. Click on Save to confirm the creation of this List.The Inventory icon updates to indicate how many Lists have been added to a field.To open the List to view or edit it simply click on the Inventory icon, then on the list.Add Items to a List of MaterialsClick on the Inventory icon next to the field the List belongs to, then select the list you want to update.Click on Add items.This will open the Inventory Picker. You can then browse your samples, subsamples, and containers, and select items to add to this list. The searching and selection works exactly like in Inventory: see Search Inventory and Select Items in Inventory. Once you are happy with your selection, click Choose. You can always add or remove items later.The selected items will be added to the list. Click on Save to confirm the changes to this List.You can also quickly create a List of Materials based on the content of a basket that you built earlier in the inventory area. Using baskets is a great way to allow you to quickly recreate identical Lists of materials in multiple similar experiments.Move Items in a List of Materials to your BenchOnce you\\'ve assembled a List of Materials, you can automatically move all of the items in the List to your Bench, to indicate that you are currently working with these items.Just click on Move all to my bench:You might get an additional popup, asking if you wish for items that are in containers that are already on your bench to be placed directly onto your bench, or whether the move action should keep these items in their containers.After the action completes, you will see that the location of the items has been updated, both in the List of Materials and Inventory:Remove Items from a List of MaterialsTo remove an item, simply click on the Remove from list cross next to the item in the List, then save the List. Note that this only removes the item from the List, and does not affect the actual item in Inventory.Edit the Consumed and Inventory Quantities of an ItemTo keep track of an item\\'s usage, you can edit the consumed and Inventory quantity of an item from the List of Materials table. This is explained in detail at Edit Quantities in Lists of Materials.Open a List in a New WindowFor easier viewing/editing, you can open the List in a new window, which will make the List expand to the full size of the window.Click on the view in new window icon.You can edit the List as usual from this window.Delete a List of MaterialsTo delete a list, click on the Delete List button on the bottom of the List, then confirm the action. The list and information about used quantities will be deleted, and there is no way to undo this action. Note that the Inventory items will not be affected by this action.Print a Document with Lists of MaterialsTo print a document or save it as PDF, and include the Lists of Materials:Click on the Print icon in the document toolbar.The resulting document will automatically have the Lists appended to the relevant field.Print or Download a List of Materials on its ownTo print a List or save it as PDF:Click on the view in new window icon.This will open the List in a page of its own. Click on the Print icon to open the print dialog.The resulting printout/PDF will only contain the List you\\'ve selected.Export a List of Materials as CSVTo export all the data contained in a list, click on the Export button on the bottom-left of the List.If the list has been edited after opening the dialog, clicking on \\'Export\\' will save the changes, then open the Export panel. Choose the export options and confirm the action. The list will be downloaded to your device as a CSV file.Viewing documents associated with an item in InventoryIn addition to associating a set of samples and other Inventory items with a document, a List of Materials also introduces an association between those items and the document that has the list.In Inventory, when viewing a sample, subsample, or container, tapping the \"Info\" context button opens the sidebar.Tapping \"Show Linked Documents\" will open a dialog containing a table of all of the documents that contain Lists of Materials that reference this item. If a document has multiple lists that reference the same item many times then the document will only appear in the table once.If you don\\'t have permission to view the document, tapping the button in the \"Owner\" column will reveal the email address of the document\\'s owner who will be able to share it with you.\\n\\n\\n\\nHow did we do?\\n\\n\\n\\n\\n\\n\\n\\n\\n\\n\\n\\n\\n\\n\\n\\n\\n\\n\\n\\n\\n\\n\\n\\n\\n\\n\\n\\n\\n\\n\\n\\nRelated Articles\\n\\n\\nEdit Quantities in Lists of Materials 🧪\\n\\n\\nRSpace Inventory Hub 🧪\\n\\n\\nUse Benches in Inventory 🧪\\n\\n\\n\\n\\n\\n\\n\\n\\n\\n\\n\\n\\n(opens in a new tab)\\n\\n\\n\\nPowered by HelpDocs\\n(opens in a new tab)\\n\\n\\n\\n\\n\\n\\n\\n\\n\\n\\n\\n×\\n\\nContact\\n\\n\\n\\n\\n\\n\\n\\n\\n\\n\\n\\n\\n\\n\\nSend\\n\\n\\n\\n\\n\\n\\n\\n\\n\\n\\n\\n\\n\\n\\n\\n\\n'"
      ]
     },
     "execution_count": 27,
     "metadata": {},
     "output_type": "execute_result"
    }
   ],
   "source": [
    "docs[56].page_content"
   ]
  },
  {
   "cell_type": "code",
   "execution_count": 32,
   "id": "40dae560-a6a6-4bc8-a44e-360228909e8e",
   "metadata": {},
   "outputs": [
    {
     "data": {
      "text/plain": [
       "3448"
      ]
     },
     "execution_count": 32,
     "metadata": {},
     "output_type": "execute_result"
    }
   ],
   "source": [
    "from langchain.text_splitter import CharacterTextSplitter, RecursiveCharacterTextSplitter\n",
    "from langchain.vectorstores.utils import filter_complex_metadata\n",
    "filtered = filter_complex_metadata(docs)\n",
    "\n",
    "r = RecursiveCharacterTextSplitter(chunk_size=400, chunk_overlap=50)\n",
    "all_chunks = r.split_documents(filtered)\n",
    "all_chunks[0]\n",
    "len(all_chunks)\n"
   ]
  },
  {
   "cell_type": "code",
   "execution_count": 33,
   "id": "9c4be443-45b8-4500-b682-e19d5c1c17aa",
   "metadata": {},
   "outputs": [],
   "source": [
    "from langchain.embeddings import OpenAIEmbeddings\n",
    "from langchain.vectorstores.chroma import Chroma"
   ]
  },
  {
   "cell_type": "code",
   "execution_count": 34,
   "id": "50e138ef-7747-4a12-870a-b9ddece1ad8c",
   "metadata": {},
   "outputs": [],
   "source": [
    "v_store = Chroma.from_documents(all_chunks, embedding=OpenAIEmbeddings(), persist_directory=\"rspace-helpdocs\")"
   ]
  },
  {
   "cell_type": "code",
   "execution_count": 62,
   "id": "8f6d0489-9e68-40d2-a710-08bc6ebea182",
   "metadata": {},
   "outputs": [
    {
     "data": {
      "text/plain": [
       "Document(page_content='show which samples have been used within your ELN, or from the Inventory side, users can quickly determine which experiments a sample has been used in. Efficient mechanisms for bulk import and export and a powerful \"API first\" design facillitiate exchange of sample information to or from other systems.The design draws on principals of visual cognition to make maximum use of the human ability to', metadata={'description': 'Quick links to relevant help content for getting started with RSpace Inventory, our inventory and sample management system!', 'language': 'en', 'source': 'https://documentation.researchspace.com/article/tffkwcpizj-get-started-with-inventory', 'title': 'Get Started with Inventory 🧪 - RSpace Help'})"
      ]
     },
     "execution_count": 62,
     "metadata": {},
     "output_type": "execute_result"
    }
   ],
   "source": [
    "query =\"how do i connect inventory samples to eln\"\n",
    "search_results=v_store.similarity_search(query )\n",
    "search_results[0]"
   ]
  },
  {
   "cell_type": "code",
   "execution_count": 44,
   "id": "031ee2d3-d513-497b-a752-a521f0dbf1cb",
   "metadata": {},
   "outputs": [],
   "source": [
    "v_store2 = Chroma(persist_directory=\"rspace-helpdocs\")"
   ]
  },
  {
   "cell_type": "code",
   "execution_count": 45,
   "id": "c1a49914-928c-4b97-b670-42c367fa58aa",
   "metadata": {},
   "outputs": [
    {
     "data": {
      "text/plain": [
       "3448"
      ]
     },
     "execution_count": 45,
     "metadata": {},
     "output_type": "execute_result"
    }
   ],
   "source": [
    "v_store2._collection.count()"
   ]
  },
  {
   "cell_type": "code",
   "execution_count": 46,
   "id": "5775928c-1ccd-41ab-bcb6-80db5af0efb0",
   "metadata": {},
   "outputs": [],
   "source": [
    "from langchain.chains.question_answering import load_qa_chain\n",
    "from langchain.llms import OpenAI\n",
    "from langchain.prompts import PromptTemplate\n",
    "from langchain.memory import ConversationBufferMemory"
   ]
  },
  {
   "cell_type": "code",
   "execution_count": 51,
   "id": "fc6d1dc8-2ff7-4216-bd5d-f5b8798a7420",
   "metadata": {},
   "outputs": [],
   "source": [
    "template = \"\"\"You are a chatbot having a conversation with a human.\n",
    "\n",
    "Given the following extracted parts of a long document and a question, create a final answer.\n",
    "\n",
    "{context}\n",
    "\n",
    "{chat_history}\n",
    "Human: {human_input}\n",
    "Chatbot:\"\"\"\n",
    "\n",
    "prompt = PromptTemplate(\n",
    "    input_variables=[\"chat_history\", \"human_input\", \"context\"], template=template\n",
    ")\n",
    "memory = ConversationBufferMemory(memory_key=\"chat_history\", input_key=\"human_input\")\n",
    "chain = load_qa_chain(\n",
    "    OpenAI(temperature=0), chain_type=\"stuff\", memory=memory, prompt=prompt\n",
    ")"
   ]
  },
  {
   "cell_type": "code",
   "execution_count": 63,
   "id": "f44b1c37-197f-463b-ae2c-39a64f984715",
   "metadata": {},
   "outputs": [
    {
     "data": {
      "text/plain": [
       "{'output_text': ' You can connect Inventory samples to ELN documents by adding Lists of Materials to ELN document fields. This allows you to easily associate Inventory items to experiments, as well as update the quantities of items as you use them up from within the ELN.'}"
      ]
     },
     "execution_count": 63,
     "metadata": {},
     "output_type": "execute_result"
    }
   ],
   "source": [
    "\n",
    "chain({\"input_documents\": search_results, \"human_input\": query}, return_only_outputs=True)"
   ]
  },
  {
   "cell_type": "code",
   "execution_count": 58,
   "id": "aef0f468-c9dd-4e2d-96a9-a4f2b802800c",
   "metadata": {},
   "outputs": [],
   "source": [
    "query=\"can you rephrase that\""
   ]
  },
  {
   "cell_type": "code",
   "execution_count": 59,
   "id": "0f941a74-7304-4e31-90bd-64e5bbc930cb",
   "metadata": {},
   "outputs": [
    {
     "data": {
      "text/plain": [
       "{'output_text': \" To delete tags, click on the 'x' in the tag pill or remove them from the ‘Tags’ textbox at the top-right-hand side of the document view.\"}"
      ]
     },
     "execution_count": 59,
     "metadata": {},
     "output_type": "execute_result"
    }
   ],
   "source": [
    "chain({\"input_documents\": search_results, \"human_input\": query}, return_only_outputs=True)"
   ]
  },
  {
   "cell_type": "code",
   "execution_count": 60,
   "id": "4b707c95-10a5-4663-9087-66f80b704936",
   "metadata": {},
   "outputs": [
    {
     "data": {
      "text/plain": [
       "ConversationBufferMemory(chat_memory=ChatMessageHistory(messages=[HumanMessage(content='how do i delete tags'), AIMessage(content=\" To delete tags, click on the 'x' in the tag pill. You can also click on the 'edit' symbol and remove them as a comma-separated list in the ‘Tags’ textbox at the top-right-hand side of the document view.\"), HumanMessage(content='can you rephrase that'), AIMessage(content=\" To delete tags, click on the 'x' in the tag pill or remove them from the ‘Tags’ textbox at the top-right-hand side of the document view.\")]), input_key='human_input', memory_key='chat_history')"
      ]
     },
     "execution_count": 60,
     "metadata": {},
     "output_type": "execute_result"
    }
   ],
   "source": [
    "memory"
   ]
  },
  {
   "cell_type": "code",
   "execution_count": null,
   "id": "f0b67eba-ef1f-4cce-9181-85e3262b07fd",
   "metadata": {},
   "outputs": [],
   "source": []
  }
 ],
 "metadata": {
  "kernelspec": {
   "display_name": "Python 3 (ipykernel)",
   "language": "python",
   "name": "python3"
  },
  "language_info": {
   "codemirror_mode": {
    "name": "ipython",
    "version": 3
   },
   "file_extension": ".py",
   "mimetype": "text/x-python",
   "name": "python",
   "nbconvert_exporter": "python",
   "pygments_lexer": "ipython3",
   "version": "3.10.6"
  }
 },
 "nbformat": 4,
 "nbformat_minor": 5
}
