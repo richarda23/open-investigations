{
 "cells": [
  {
   "cell_type": "code",
   "execution_count": null,
   "id": "dc2ca7c4-edb2-4949-9893-81f6e5dbeb34",
   "metadata": {},
   "outputs": [],
   "source": [
    "from langchain.document_loaders.rspace import RSpaceLoader\n",
    "import os\n",
    "\n",
    "from dotenv import load_dotenv\n",
    "\n",
    "load_dotenv()\n",
    "\n",
    "GHA_TOKEN = os.getenv('GHA')\n",
    "os.getenv('OPENAI_API_KEY')"
   ]
  },
  {
   "cell_type": "code",
   "execution_count": 50,
   "id": "8fb8889c-cb20-46b9-bea3-dd5da1cafba2",
   "metadata": {},
   "outputs": [],
   "source": [
    "rspace_rfp=\"SD1932247\"\n",
    "walks= \"NB182183\""
   ]
  },
  {
   "cell_type": "code",
   "execution_count": 51,
   "id": "86ef2650-96b1-4a1a-8d8d-69df0b1a620f",
   "metadata": {},
   "outputs": [
    {
     "name": "stderr",
     "output_type": "stream",
     "text": [
      "/Users/richard.c.adams/.local/share/virtualenvs/jupyter_notebooks-h594mpzp/lib/python3.10/site-packages/rspace_client/eln/field_content.py:21: MarkupResemblesLocatorWarning: The input looks more like a filename than markup. You may want to open this file and pass the filehandle into Beautiful Soup.\n",
      "  self.soup = BeautifulSoup(self.html, \"html.parser\")\n"
     ]
    },
    {
     "data": {
      "text/plain": [
       "20"
      ]
     },
     "execution_count": 51,
     "metadata": {},
     "output_type": "execute_result"
    }
   ],
   "source": [
    "loader = RSpaceLoader(global_id=walks)\n",
    "docs=loader.load()\n",
    "docs[0].to_json()\n",
    "len(docs)\n"
   ]
  },
  {
   "cell_type": "code",
   "execution_count": 52,
   "id": "dfc9e8d1-9603-4198-8e4c-707e7a3a6bce",
   "metadata": {},
   "outputs": [
    {
     "name": "stdout",
     "output_type": "stream",
     "text": [
      "<h2>Carn Bhac<h2/>Date walked\n",
      "10/09/2023\n",
      "mountains climbed\n",
      "Can Bhac\n",
      "Route\n",
      "Walk highlands from Invera\n",
      "----\n",
      "<h2>West Ben Lawers range<h2/>Date walked\n",
      "30/11/2019\n",
      "mountains climbed\n",
      "Meall Corranaich, Meall a Cho\n",
      "----\n",
      "<h2>Cruach ardrain<h2/>Date walked\n",
      "22/04/2023\n",
      "mountains climbed\n",
      "Cruach ardrain\n",
      "Benn tulaichean \n",
      "Rout\n",
      "----\n",
      "<h2>Loch nan Eun Munros<h2/>Date walked\n",
      "09/07/2022\n",
      "mountains climbed\n",
      "Beinn iutharn mor\n",
      "An Socach \n",
      "Ca\n",
      "----\n",
      "<h2>Carn a chlaim<h2/>Date walked\n",
      "\n",
      "mountains climbed\n",
      "\n",
      "Route\n",
      "\n",
      "Time taken (hrs)\n",
      "\n",
      "Notes\n",
      "\n",
      "\n",
      "\n",
      " \n",
      " \n",
      "\n",
      "----\n",
      "<h2>ben vorlich (Arrochar)<h2/>Date walked\n",
      "09/11/2019\n",
      "mountains climbed\n",
      "Ben Vorlich, Arrochar, WH ro\n",
      "----\n",
      "<h2>Ime narnain<h2/>Date walked\n",
      "21/09/2019\n",
      "mountains climbed\n",
      "\n",
      "Route\n",
      "\n",
      "Time taken (hrs)\n",
      "\n",
      "Notes\n",
      "\n",
      "\n",
      "\n",
      " \n",
      "\n",
      "----\n",
      "<h2>An Casteal<h2/>Date walked\n",
      "06/03/2019\n",
      "mountains climbed\n",
      "an casteal, beinn achabair, beinn a chro\n",
      "----\n",
      "<h2>Glen lyon horseshoe <h2/>Date walked\n",
      "24/02/2019\n",
      "mountains climbed\n",
      "Glen lyon 4 munros \n",
      "Route\n",
      "Stan\n",
      "----\n",
      "<h2>Ben Wyvis<h2/>Date walked\n",
      "17/02/2019\n",
      "mountains climbed\n",
      "Ben Wyvis\n",
      "Route\n",
      "standard route up and dow\n",
      "----\n",
      "<h2>West Fannichs<h2/>Date walked\n",
      "16/02/2019\n",
      "mountains climbed\n",
      "A Chailleach, Sgurr Breac\n",
      "Route\n",
      "from \n",
      "----\n",
      "<h2>windlestraw Lae? hill, Moorfoots<h2/>Date walked\n",
      "02/02/2019\n",
      "mountains climbed\n",
      "windlestraw law? h\n",
      "----\n",
      "<h2>tinto hill<h2/>Date walked\n",
      "26/01/2019\n",
      "mountains climbed\n",
      "tinto hill\n",
      "Route\n",
      "standard route up and d\n",
      "----\n",
      "<h2>Beinn a Ghlo<h2/>Date walked\n",
      "29/12/2018\n",
      "mountains climbed\n",
      "3 Munros of Ben a Ghlo\n",
      "Route\n",
      "Standard \n",
      "----\n",
      "<h2>Dun Fell<h2/>Date walked\n",
      "24/12/2018\n",
      "mountains climbed\n",
      "Dun Fell horseshoe , Peebles. Also Birksca\n",
      "----\n",
      "<h2>Ben Dorain, Ben an Dothaidh<h2/>Date walked\n",
      "08/12/2018\n",
      "mountains climbed\n",
      "Ben Dorain, Ben an Doth\n",
      "----\n",
      "<h2>Being Dearg<h2/>Date walked\n",
      "15/09/2018\n",
      "mountains climbed\n",
      "Being Dearg Southern cairngorms\n",
      "Route\n",
      "S\n",
      "----\n",
      "<h2>WhiteMounth<h2/>Date walked\n",
      "15/07/2018\n",
      "mountains climbed\n",
      "\n",
      "Broad Cairn\n",
      "Carn Bannoch\n",
      "S\n",
      "White mount\n",
      "----\n",
      "<h2>Ben Challum<h2/>Date walked\n",
      "08/07/2018\n",
      "mountains climbed\n",
      "Ben Challum (near Crianlarich)\n",
      "Route\n",
      "\n",
      " \n",
      "----\n",
      "<h2>Stob Ghabar<h2/>Date walked\n",
      "28/05/2018\n",
      "mountains climbed\n",
      "\n",
      " \n",
      "\n",
      " \n",
      "\n",
      " \n",
      "\n",
      " \n",
      "\n",
      " \n",
      "\n",
      "Route\n",
      "From Victoria bri\n"
     ]
    }
   ],
   "source": [
    "len(docs)\n",
    "summaries = [d.page_content[0:100] for d in  docs]\n",
    "print('\\n----\\n'.join(summaries))\n"
   ]
  },
  {
   "cell_type": "code",
   "execution_count": 59,
   "id": "bdd23c44-e9ea-4a76-854c-650736844c17",
   "metadata": {},
   "outputs": [],
   "source": [
    "from langchain.text_splitter import CharacterTextSplitter, RecursiveCharacterTextSplitter\n",
    "from langchain.vectorstores.utils import filter_complex_metadata\n",
    "filtered = filter_complex_metadata(docs)"
   ]
  },
  {
   "cell_type": "code",
   "execution_count": 61,
   "id": "44908bba-a990-41af-a708-e2e3a745ed8c",
   "metadata": {},
   "outputs": [
    {
     "data": {
      "text/plain": [
       "20"
      ]
     },
     "execution_count": 61,
     "metadata": {},
     "output_type": "execute_result"
    }
   ],
   "source": [
    "c = CharacterTextSplitter(chunk_size=100, chunk_overlap=20)\n",
    "r = RecursiveCharacterTextSplitter(chunk_size=800, chunk_overlap=40)\n",
    "all_chunks = r.split_documents(filtered)\n",
    "all_chunks[0]\n",
    "len(all_chunks)\n",
    "\n",
    "    "
   ]
  },
  {
   "cell_type": "code",
   "execution_count": 62,
   "id": "7b7b013f-c2a6-4507-b71b-ba29b3705e65",
   "metadata": {},
   "outputs": [],
   "source": [
    "from langchain.embeddings import OpenAIEmbeddings\n",
    "from langchain.vectorstores import Chroma\n",
    "from langchain.vectorstores.utils import filter_complex_metadata\n"
   ]
  },
  {
   "cell_type": "code",
   "execution_count": 63,
   "id": "840d28db-3657-491f-ab41-a4e36ed7145b",
   "metadata": {},
   "outputs": [
    {
     "data": {
      "text/plain": [
       "Document(page_content='<h2>Cruach ardrain<h2/>Date walked\\n22/04/2023\\nmountains climbed\\nCruach ardrain\\nBenn tulaichean\\xa0\\nRoute\\nStandard why route from inverlochlarig\\nTime taken (hrs)\\n4\\nNotes\\nSunny, solo, cold on top. Great views of southern Highlands.', metadata={'source': 'rspace: Cruach ardrain-SD1835518'})"
      ]
     },
     "execution_count": 63,
     "metadata": {},
     "output_type": "execute_result"
    }
   ],
   "source": [
    "filtered = filter_complex_metadata(all_chunks)\n",
    "filtered[0].metadata\n",
    "len(filtered)\n",
    "filtered[2]"
   ]
  },
  {
   "cell_type": "code",
   "execution_count": 64,
   "id": "e4633ec9-a1eb-44c1-861e-1c0190a253cc",
   "metadata": {},
   "outputs": [],
   "source": [
    "v_store = Chroma.from_documents(documents=filtered, embedding=OpenAIEmbeddings())\n"
   ]
  },
  {
   "cell_type": "code",
   "execution_count": 57,
   "id": "a6435c47-c168-4c31-9d92-a6a6587928b1",
   "metadata": {},
   "outputs": [
    {
     "data": {
      "text/plain": [
       "[Document(page_content='Implementation Approach', metadata={'source': 'rspace: rob1-SD1932247'}),\n",
       " Document(page_content='Implementation Approach', metadata={'source': 'rspace: rob1-SD1932247'}),\n",
       " Document(page_content='that perspective to ensure that RSpace interoperates with tools and services at both ends of the workflow.', metadata={'source': 'rspace: rob1-SD1932247'}),\n",
       " Document(page_content='that perspective to ensure that RSpace interoperates with tools and services at both ends of the workflow.', metadata={'source': 'rspace: rob1-SD1932247'})]"
      ]
     },
     "execution_count": 57,
     "metadata": {},
     "output_type": "execute_result"
    }
   ],
   "source": [
    "results = v_store.similarity_search(query = \"alignment\", k=4, score_threshold=0.8)\n",
    "results"
   ]
  },
  {
   "cell_type": "code",
   "execution_count": 28,
   "id": "f14ea388-8ffc-4a96-b675-6ec8c7a62f95",
   "metadata": {},
   "outputs": [],
   "source": [
    "from langchain.llms import OpenAI\n",
    "from langchain.retrievers.self_query.base import SelfQueryRetriever\n",
    "from langchain.chains.query_constructor.base import AttributeInfo\n"
   ]
  },
  {
   "cell_type": "code",
   "execution_count": 30,
   "id": "685ca476-a65f-4788-9c2f-8d33e16f914e",
   "metadata": {},
   "outputs": [
    {
     "ename": "NameError",
     "evalue": "name 'sqretriever' is not defined",
     "output_type": "error",
     "traceback": [
      "\u001b[0;31m---------------------------------------------------------------------------\u001b[0m",
      "\u001b[0;31mNameError\u001b[0m                                 Traceback (most recent call last)",
      "Cell \u001b[0;32mIn[30], line 1\u001b[0m\n\u001b[0;32m----> 1\u001b[0m results \u001b[38;5;241m=\u001b[39m \u001b[43msqretriever\u001b[49m\u001b[38;5;241m.\u001b[39mget_relevant_documents(\u001b[38;5;124m\"\u001b[39m\u001b[38;5;124mcreated by richarda23\u001b[39m\u001b[38;5;124m\"\u001b[39m, verbose\u001b[38;5;241m=\u001b[39m\u001b[38;5;28;01mTrue\u001b[39;00m)\n\u001b[1;32m      2\u001b[0m results\n",
      "\u001b[0;31mNameError\u001b[0m: name 'sqretriever' is not defined"
     ]
    }
   ],
   "source": [
    "results = sqretriever.get_relevant_documents(\"created by richarda23\", verbose=True)\n",
    "results\n"
   ]
  },
  {
   "cell_type": "code",
   "execution_count": 71,
   "id": "087374ad-0ad6-4928-b666-aea89561f9da",
   "metadata": {},
   "outputs": [
    {
     "data": {
      "text/plain": [
       "[Document(page_content='<h2>Carn a chlaim<h2/>Date walked\\n\\nmountains climbed\\n\\nRoute\\n\\nTime taken (hrs)\\n\\nNotes', metadata={'source': 'rspace: Carn a chlaim-SD488647'}),\n",
       " Document(page_content='<h2>Ime narnain<h2/>Date walked\\n21/09/2019\\nmountains climbed\\n\\nRoute\\n\\nTime taken (hrs)\\n\\nNotes', metadata={'source': 'rspace: Ime narnain-SD488651'}),\n",
       " Document(page_content='<h2>An Casteal<h2/>Date walked\\n06/03/2019\\nmountains climbed\\nan casteal, beinn achabair, beinn a chroin\\nRoute\\nAs in 100 best routes in scottish mountains\\nTime taken (hrs)\\n8.5\\nNotes', metadata={'source': 'rspace: An Casteal-SD488640'}),\n",
       " Document(page_content='<h2>Loch nan Eun Munros<h2/>Date walked\\n09/07/2022\\nmountains climbed\\nBeinn iutharn mor\\nAn Socach\\xa0\\nCarn an Righ\\nRoute\\nOvernight camp at Loch nan Eun. Walk in from the Spittal of Glenshee, set up camp, then baim in the evening.\\xa0\\nNext day an socach via sw scree slopes and then Carn an Righ.\\xa0\\n\\xa0\\nTime taken (hrs)\\n11\\nNotes\\n\\n\\n\\n\\n\\n\\n\\n\\n\\n\\xa0Cold and windy at campsite.\\xa0\\nSunday very hot and sunny alltota day.\\xa0\\nMeet Aberdeen hwc people on way down.\\xa0\\nTotal distance is 16 Saturday + 25 Sunday.\\nFitness was average, slow with rucksack', metadata={'source': 'rspace: Loch nan Eun Munros-SD1595284'})]"
      ]
     },
     "execution_count": 71,
     "metadata": {},
     "output_type": "execute_result"
    }
   ],
   "source": [
    "from langchain.chains import RetrievalQA\n",
    "from langchain.chat_models  import ChatOpenAI\n",
    "llm = ChatOpenAI(model=\"gpt-3.5-turbo\", temperature=0.9, verbose=True)\n",
    "retriever = v_store.as_retriever( search_kwargs={'k':4})\n",
    "vector_results = retriever.get_relevant_documents(query=\"what is my longest walk\")\n",
    "\n",
    "vector_results"
   ]
  },
  {
   "cell_type": "code",
   "execution_count": 76,
   "id": "a7c6dab2-aefd-4931-9e2f-558d82962174",
   "metadata": {},
   "outputs": [
    {
     "name": "stdout",
     "output_type": "stream",
     "text": [
      "\n",
      "\n",
      "\u001b[1m> Entering new RetrievalQA chain...\u001b[0m\n",
      "\n",
      "\u001b[1m> Finished chain.\u001b[0m\n"
     ]
    },
    {
     "data": {
      "text/plain": [
       "{'query': 'what walks has the weather been good on',\n",
       " 'result': \"The weather has been good on the following walks:\\n\\n- Carn a Chlaim (date walked not provided)\\n- Beinn Dearg (15/09/2018)\\n- Ime Narnain (date walked not provided)\\n- Carn Bhac (10/09/2023)\\n\\nPlease note that the dates for Ime Narnain are not provided, so we don't have information about the weather on that specific day.\"}"
      ]
     },
     "execution_count": 76,
     "metadata": {},
     "output_type": "execute_result"
    }
   ],
   "source": [
    "qa_chain = RetrievalQA.from_chain_type(llm,chain_type='stuff',retriever=retriever,verbose=True )\n",
    "\n",
    "result = qa_chain({\"query\": \"what walks has the weather been good on\"})\n",
    "result"
   ]
  },
  {
   "cell_type": "code",
   "execution_count": 35,
   "id": "a21671d5-4730-41cc-bfc1-85cfa31023cf",
   "metadata": {},
   "outputs": [
    {
     "name": "stdout",
     "output_type": "stream",
     "text": [
      "\n",
      "\n",
      "\u001b[1m> Entering new RetrievalQA chain...\u001b[0m\n",
      "\n",
      "\u001b[1m> Finished chain.\u001b[0m\n"
     ]
    },
    {
     "data": {
      "text/plain": [
       "{'query': 'what tools does RSpace integrate with  ',\n",
       " 'result': 'RSpace integrates with several tools and systems. This includes the eCAT sample tracking system, third-party sample tracking, freezer management, colony management, instrument data capture systems, lab supply & procurement systems like Quartzy and others. It also integrates with popular commercial data sources including Box, Dropbox, Google Drive, MS OneDrive, Mendeley, and the eCAT sample tracking system, as well as archiving systems like DSpace and Arkivum. In addition, RSpace has the capability to connect with generic SQL and other databases. However, it currently does not integrate with project management tools but this functionality is part of their future plans.'}"
      ]
     },
     "execution_count": 35,
     "metadata": {},
     "output_type": "execute_result"
    }
   ],
   "source": [
    "result = qa_chain({\"query\": \"what tools does RSpace integrate with  \"})\n",
    "result"
   ]
  },
  {
   "cell_type": "code",
   "execution_count": null,
   "id": "30334b5e-257d-4846-87f3-5116c0f0a10a",
   "metadata": {},
   "outputs": [],
   "source": [
    "result"
   ]
  },
  {
   "cell_type": "code",
   "execution_count": null,
   "id": "234782b5-26bb-4cfd-bf2d-2a36cff778ec",
   "metadata": {},
   "outputs": [],
   "source": []
  },
  {
   "cell_type": "code",
   "execution_count": null,
   "id": "30e2d324-61bc-49b3-bcba-1ab8ba133a5c",
   "metadata": {},
   "outputs": [],
   "source": [
    "#v_store.delete_collection()"
   ]
  },
  {
   "cell_type": "code",
   "execution_count": null,
   "id": "b0ab86f3-7136-44eb-b647-5c2d6183c7e9",
   "metadata": {},
   "outputs": [],
   "source": []
  }
 ],
 "metadata": {
  "kernelspec": {
   "display_name": "Python 3 (ipykernel)",
   "language": "python",
   "name": "python3"
  },
  "language_info": {
   "codemirror_mode": {
    "name": "ipython",
    "version": 3
   },
   "file_extension": ".py",
   "mimetype": "text/x-python",
   "name": "python",
   "nbconvert_exporter": "python",
   "pygments_lexer": "ipython3",
   "version": "3.10.6"
  }
 },
 "nbformat": 4,
 "nbformat_minor": 5
}
