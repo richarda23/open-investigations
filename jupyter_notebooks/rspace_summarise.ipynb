{
 "cells": [
  {
   "cell_type": "code",
   "execution_count": null,
   "id": "2cc96fa0-3db9-4eb2-90d0-d32a8c420573",
   "metadata": {},
   "outputs": [],
   "source": [
    "import os\n",
    "from dotenv import load_dotenv\n",
    "\n",
    "load_dotenv()\n",
    "walks_nb=182183\n",
    "generated_expts=1921314"
   ]
  },
  {
   "cell_type": "code",
   "execution_count": null,
   "id": "607fe67c-dcab-453b-ac19-af2ee82f6c0f",
   "metadata": {},
   "outputs": [],
   "source": [
    "from rspace_loader import RSpaceLoader\n",
    "loader =RSpaceLoader(url=os.getenv(\"RSPACE_URL\"), api_key=os.getenv(\"RSPACE_API_KEY\"), folder_id=walks_nb)\n",
    "docs = loader.load()\n",
    "docs[0]"
   ]
  },
  {
   "cell_type": "code",
   "execution_count": null,
   "id": "0235a6e7-d889-4a0d-946a-9335f221fd9a",
   "metadata": {},
   "outputs": [],
   "source": [
    "docs[1]\n"
   ]
  },
  {
   "cell_type": "code",
   "execution_count": null,
   "id": "b975118a-70c2-49a4-99e2-78da73e6dc02",
   "metadata": {},
   "outputs": [],
   "source": []
  },
  {
   "cell_type": "code",
   "execution_count": null,
   "id": "79522997-9089-40eb-9da1-567630db5076",
   "metadata": {},
   "outputs": [],
   "source": [
    "from langchain.vectorstores import Chroma\n",
    "from langchain.embeddings import OpenAIEmbeddings\n",
    "from langchain.vectorstores.utils import filter_complex_metadata\n",
    "db = Chroma.from_documents(docs, OpenAIEmbeddings())\n",
    "\n"
   ]
  },
  {
   "cell_type": "code",
   "execution_count": null,
   "id": "d03ac38a-afde-4399-976d-efca4a7ffedc",
   "metadata": {},
   "outputs": [],
   "source": [
    "res=db.similarity_search_with_relevance_scores(\"cold wet weather\")\n",
    "res"
   ]
  },
  {
   "cell_type": "code",
   "execution_count": null,
   "id": "361a608a-89f1-492b-a8d8-1202f8f2a890",
   "metadata": {},
   "outputs": [],
   "source": [
    "res"
   ]
  },
  {
   "cell_type": "code",
   "execution_count": null,
   "id": "29deee62-433d-4d98-8650-7716998c70c9",
   "metadata": {},
   "outputs": [],
   "source": []
  },
  {
   "cell_type": "code",
   "execution_count": null,
   "id": "1428e433-4c7e-491e-b554-126273334444",
   "metadata": {},
   "outputs": [],
   "source": []
  },
  {
   "cell_type": "code",
   "execution_count": null,
   "id": "c82bfaf0-8070-4dd1-b4b4-db20b07de677",
   "metadata": {},
   "outputs": [],
   "source": []
  }
 ],
 "metadata": {
  "kernelspec": {
   "display_name": "Python 3 (ipykernel)",
   "language": "python",
   "name": "python3"
  },
  "language_info": {
   "codemirror_mode": {
    "name": "ipython",
    "version": 3
   },
   "file_extension": ".py",
   "mimetype": "text/x-python",
   "name": "python",
   "nbconvert_exporter": "python",
   "pygments_lexer": "ipython3",
   "version": "3.10.6"
  }
 },
 "nbformat": 4,
 "nbformat_minor": 5
}
