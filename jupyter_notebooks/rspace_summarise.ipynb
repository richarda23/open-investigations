{
 "cells": [
  {
   "cell_type": "code",
   "execution_count": null,
   "id": "2cc96fa0-3db9-4eb2-90d0-d32a8c420573",
   "metadata": {},
   "outputs": [],
   "source": [
    "import os\n",
    "from dotenv import load_dotenv\n",
    "\n",
    "load_dotenv()\n",
    "walks_nb=182183\n",
    "generated_expts=1921314\n",
    "rob_Stuff=1932246\n",
    "mixed=1932027\n",
    "pdf=\"GL1932384\"\n"
   ]
  },
  {
   "cell_type": "code",
   "execution_count": null,
   "id": "dffc7818-8e46-4eba-8552-5a1984d1a82f",
   "metadata": {},
   "outputs": [],
   "source": []
  },
  {
   "cell_type": "code",
   "execution_count": 2,
   "id": "607fe67c-dcab-453b-ac19-af2ee82f6c0f",
   "metadata": {},
   "outputs": [
    {
     "name": "stdout",
     "output_type": "stream",
     "text": [
      "{'id': 1932384, 'globalId': 'GL1932384', 'name': 'polo.pdf', 'caption': None, 'contentType': 'application/pdf', 'created': '2023-09-30T20:16:00.731Z', 'size': 3260672, 'version': 1, '_links': [{'link': 'https://community.researchspace.com/api/v1/files/1932384', 'rel': 'self'}, {'link': 'https://community.researchspace.com/api/v1/files/1932384/file', 'rel': 'enclosure'}]}\n"
     ]
    }
   ],
   "source": [
    "from rspace_loader import RSpaceLoader\n",
    "loader =RSpaceLoader(url=os.getenv(\"RSPACE_URL\"), api_key=os.getenv(\"RSPACE_API_KEY\"), global_id=\"GL1932384\")\n",
    "docs = loader.load()"
   ]
  },
  {
   "cell_type": "code",
   "execution_count": 5,
   "id": "1fcc949d-d29d-44e8-8a96-b25f7a8358f1",
   "metadata": {},
   "outputs": [
    {
     "data": {
      "text/plain": [
       "13"
      ]
     },
     "execution_count": 5,
     "metadata": {},
     "output_type": "execute_result"
    }
   ],
   "source": [
    "len(docs)"
   ]
  },
  {
   "cell_type": "code",
   "execution_count": null,
   "id": "ced19aac-3d64-4059-be1c-07b89c532ec3",
   "metadata": {},
   "outputs": [],
   "source": [
    "for d in docs:\n",
    "    print(len(d.page_content))\n",
    "docs[1]"
   ]
  },
  {
   "cell_type": "code",
   "execution_count": 10,
   "id": "c404e3cf-8cb3-4f2e-a461-37c5e1f8727e",
   "metadata": {},
   "outputs": [
    {
     "name": "stdout",
     "output_type": "stream",
     "text": [
      "3776\n",
      "1479\n",
      "3440\n",
      "3911\n",
      "300\n",
      "2572\n",
      "2843\n",
      "3974\n",
      "1076\n",
      "3018\n",
      "3875\n",
      "1531\n",
      "2945\n",
      "3971\n",
      "1091\n",
      "3060\n",
      "3935\n",
      "892\n",
      "3523\n",
      "3403\n",
      "3985\n",
      "3933\n",
      "1821\n"
     ]
    }
   ],
   "source": [
    "\n",
    "from langchain.text_splitter import RecursiveCharacterTextSplitter\n",
    "\n",
    "splitter = RecursiveCharacterTextSplitter(chunk_size=3500, chunk_overlap=200)\n",
    "split_docs=splitter.split_documents(docs)\n",
    "len(split_docs)\n",
    "for l in split_docs:\n",
    "    print (len(l.page_content))"
   ]
  },
  {
   "cell_type": "code",
   "execution_count": 11,
   "id": "361a608a-89f1-492b-a8d8-1202f8f2a890",
   "metadata": {},
   "outputs": [],
   "source": [
    "from langchain.chat_models import ChatOpenAI\n",
    "from langchain.chains.llm import LLMChain\n",
    "from langchain.prompts import PromptTemplate\n",
    "chat_llm = ChatOpenAI(temperature=0.0)\n",
    "prompt = \"\"\"\n",
    "    Write a concise summary of the input text. If the input text is about multiple subjects, \n",
    "    summarise each subject.\n",
    "\n",
    "    Extract a maximum of 10 keywords and list these at the end in a section called 'Keywords'.\n",
    "    Generate keywords from amongst the different subjects in the document.\n",
    "    \n",
    "    The text:\n",
    "    \n",
    "    {text}\n",
    "    \n",
    "    Your summary:\n",
    "    \n",
    "    Your keywords (maximum 10):\n",
    "    \"\"\"\n",
    "promptT = PromptTemplate(input_variables=['text'],template=prompt)\n",
    "llm_chain = LLMChain(llm=chat_llm, prompt=promptT)"
   ]
  },
  {
   "cell_type": "code",
   "execution_count": 8,
   "id": "f717a716-490f-40ef-87da-fa33dbc7563a",
   "metadata": {},
   "outputs": [],
   "source": [
    "from langchain.chains.summarize import load_summarize_chain\n",
    "from langchain.callbacks import OpenAICallbackHandler\n",
    "import textwrap\n",
    "openai_cb = OpenAICallbackHandler()\n"
   ]
  },
  {
   "cell_type": "code",
   "execution_count": 12,
   "id": "99f5a36a-78ec-49c5-b68b-8dbcb3f4ebe3",
   "metadata": {},
   "outputs": [
    {
     "data": {
      "text/plain": [
       "Tokens Used: 9229\n",
       "\tPrompt Tokens: 8180\n",
       "\tCompletion Tokens: 1049\n",
       "Successful Requests: 11\n",
       "Total Cost (USD): $0.014368000000000002"
      ]
     },
     "execution_count": 12,
     "metadata": {},
     "output_type": "execute_result"
    }
   ],
   "source": [
    "\n",
    "chain = load_summarize_chain(llm=chat_llm,  chain_type=\"map_reduce\", combine_prompt=promptT)\n",
    "output_summary = chain.run(split_docs[0:10], callbacks=[openai_cb])\n",
    "openai_cb"
   ]
  },
  {
   "cell_type": "code",
   "execution_count": 14,
   "id": "c003cafc-406f-4039-84d9-7aa4f248ba2c",
   "metadata": {},
   "outputs": [
    {
     "name": "stdout",
     "output_type": "stream",
     "text": [
      "This study focuses on the role of the Polo kinase gene in cytokinesis during spermatogenesis in Drosophila. The researchers found that defects in cytokinesis resulted in reduced numbers of cells and abnormal structures in spermatocytes. They also observed failures in the localization of certain proteins involved in cytokinesis. The study suggests that Polo-like kinases play a conserved role in regulating progression through M phase and the early events of cytokinesis.\n",
      "\n",
      "Keywords: Polo kinase gene, cytokinesis, spermatogenesis, Drosophila, defects, proteins, M phase, cell division, localization, Polo-like kinases.\n"
     ]
    }
   ],
   "source": [
    "print (output_summary)"
   ]
  },
  {
   "cell_type": "raw",
   "id": "48cca28c-ba2c-4f4b-9e8a-94f3a6320471",
   "metadata": {},
   "source": [
    "print\n"
   ]
  },
  {
   "cell_type": "markdown",
   "id": "ebbb5bf4-345a-4523-8028-f6a44feb37c3",
   "metadata": {},
   "source": [
    "\n",
    "The above works very well, it does a good job at summarising. 3.5 turbo seems good, much faster than gpt4. Interestingly the very simple prompt works much better than \n",
    "TODO:\n",
    " - do this in streamlit\n",
    " - input field for a notebook or folder id. Support global Id or normal ID\n",
    " - Load docs and summarise. Note how many docs there are (max 10)\n",
    " - generate summary of each doc\n",
    " - generate summary of summaries of folder."
   ]
  },
  {
   "cell_type": "code",
   "execution_count": null,
   "id": "b975118a-70c2-49a4-99e2-78da73e6dc02",
   "metadata": {},
   "outputs": [],
   "source": []
  },
  {
   "cell_type": "code",
   "execution_count": null,
   "id": "79522997-9089-40eb-9da1-567630db5076",
   "metadata": {},
   "outputs": [],
   "source": [
    "from langchain.vectorstores import Chroma\n",
    "from langchain.embeddings import OpenAIEmbeddings\n",
    "from langchain.vectorstores.utils import filter_complex_metadata\n",
    "from lan\n",
    "db = Chroma.from_documents(docs, OpenAIEmbeddings())\n",
    "\n"
   ]
  },
  {
   "cell_type": "code",
   "execution_count": null,
   "id": "d03ac38a-afde-4399-976d-efca4a7ffedc",
   "metadata": {},
   "outputs": [],
   "source": [
    "from langchain.document_loaders import PyPDFLoader\n",
    "from langchain.text_splitter import RecursiveCharacterTextSplitter\n",
    "\n",
    "pdfLoader = PyPDFLoader('./data/inc.pdf')\n",
    "splitter = RecursiveCharacterTextSplitter(chunk_size=4000, chunk_overlap=400)\n",
    "docs = pdfLoader.load_and_split(text_splitter=splitter);"
   ]
  },
  {
   "cell_type": "code",
   "execution_count": null,
   "id": "0919ee99-d92c-44b1-bbc2-b37690b059b3",
   "metadata": {},
   "outputs": [],
   "source": [
    "chars = sum(len(x.page_content) for x in docs)\n",
    "len(docs)"
   ]
  },
  {
   "cell_type": "code",
   "execution_count": null,
   "id": "124f4452-2215-470f-aafe-054c793ed111",
   "metadata": {},
   "outputs": [],
   "source": [
    "with open('polosummary-gpt4output.txt', 'r') as input:\n",
    "    lines = input.readlines()"
   ]
  },
  {
   "cell_type": "code",
   "execution_count": null,
   "id": "6fcc7646-5deb-4ce8-b6b7-421534e2a0e1",
   "metadata": {},
   "outputs": [],
   "source": [
    "from langchain.docstore.base import Document\n",
    "content  = [''.join(lines)]\n",
    "summarisedOnce = [Document(page_content=s1, metadata={'source':f\"page-{i}\"}) for i, s1 in enumerate(content)]\n",
    "summarisedAndSplit= splitter.split_documents(summarisedOnce)\n",
    "len(content[0])"
   ]
  },
  {
   "cell_type": "code",
   "execution_count": null,
   "id": "3795765d-a93f-4abc-9234-edadd5ce7a27",
   "metadata": {},
   "outputs": [],
   "source": []
  },
  {
   "cell_type": "code",
   "execution_count": null,
   "id": "7a8e4f27-08e5-412b-a1dc-9065a350eae1",
   "metadata": {},
   "outputs": [],
   "source": [
    "from langchain.chains.llm import LLMChain\n",
    "outputs2 = []\n",
    "for d in docs:\n",
    "    resp = llm_chain.predict(text=d.page_content, research_area='biomedical')\n",
    "    outputs2.append(resp)\n",
    "    "
   ]
  },
  {
   "cell_type": "code",
   "execution_count": null,
   "id": "a4ab8b51-d13e-45b8-a5ed-b5b1ff8ec5ff",
   "metadata": {},
   "outputs": [],
   "source": [
    "t = ''.join(outputs2)\n",
    "d2 = Document(page_content=t, metadata=)"
   ]
  },
  {
   "cell_type": "code",
   "execution_count": null,
   "id": "64219459-b92a-47d5-9549-1005514e27d5",
   "metadata": {},
   "outputs": [],
   "source": [
    "d2_split =splitter.split_documents([d2])"
   ]
  },
  {
   "cell_type": "code",
   "execution_count": null,
   "id": "dcb36225-57f9-4404-8284-5405129d573b",
   "metadata": {},
   "outputs": [],
   "source": [
    "d2_split"
   ]
  },
  {
   "cell_type": "code",
   "execution_count": null,
   "id": "0d505b47-1313-4259-b44f-f464ec40a305",
   "metadata": {},
   "outputs": [],
   "source": [
    "from langchain.chains.llm import LLMChain\n",
    "outputs23 = []\n",
    "for d in d2_split:\n",
    "    resp = llm_chain.predict(text=d.page_content, research_area='biomedical')\n",
    "    outputs23.append(resp)"
   ]
  },
  {
   "cell_type": "code",
   "execution_count": null,
   "id": "3476f61e-cd25-41a9-bf59-b0665de84d95",
   "metadata": {},
   "outputs": [],
   "source": [
    "from langchain.chains.summarize import load_summarize_chain\n",
    "import textwrap\n",
    "chain = load_summarize_chain(llm=chat_llm, verbose=True, chain_type=\"map_reduce\")\n",
    "output_summary = chain.run(docs)\n",
    "wrapped_text = textwrap.fill(output_summary, width=100)\n",
    "print(wrapped_text)"
   ]
  }
 ],
 "metadata": {
  "kernelspec": {
   "display_name": "Python 3 (ipykernel)",
   "language": "python",
   "name": "python3"
  },
  "language_info": {
   "codemirror_mode": {
    "name": "ipython",
    "version": 3
   },
   "file_extension": ".py",
   "mimetype": "text/x-python",
   "name": "python",
   "nbconvert_exporter": "python",
   "pygments_lexer": "ipython3",
   "version": "3.10.6"
  }
 },
 "nbformat": 4,
 "nbformat_minor": 5
}
