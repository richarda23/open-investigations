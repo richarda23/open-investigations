{
 "cells": [
  {
   "cell_type": "markdown",
   "id": "d7b295fa-2b6e-4c27-811f-c595aa85e798",
   "metadata": {},
   "source": [
    "This is based on https://learn.deeplearning.ai/langchain/lesson/5/question-and-answer Langchain lesson"
   ]
  },
  {
   "cell_type": "code",
   "execution_count": null,
   "id": "5f006ce3-e52b-44d9-98e3-424f7612ef60",
   "metadata": {},
   "outputs": [],
   "source": [
    "from langchain.document_loaders.github import GitHubIssuesLoader\n",
    "import os\n",
    "\n",
    "from dotenv import load_dotenv\n",
    "\n",
    "load_dotenv()\n",
    "\n",
    "GHA_TOKEN = os.getenv('GHA')"
   ]
  },
  {
   "cell_type": "code",
   "execution_count": null,
   "id": "359de5af-a802-4975-add9-44f95223f236",
   "metadata": {},
   "outputs": [],
   "source": [
    "file=\"data/clothes.csv\"\n",
    "from langchain.document_loaders import CSVLoader\n",
    "from langchain.chat_models.openai import ChatOpenAI\n",
    "from langchain.embeddings.openai import OpenAIEmbeddings\n",
    "from langchain.vectorstores import DocArrayInMemorySearch;\n",
    "from langchain.chains import RetrievalQA"
   ]
  },
  {
   "cell_type": "code",
   "execution_count": null,
   "id": "9eef8128-346f-4fcc-863c-00138941254d",
   "metadata": {},
   "outputs": [],
   "source": [
    "loader = CSVLoader(file_path=file)\n",
    "docs = loader.load()\n",
    "embeddings = OpenAIEmbeddings()\n",
    "vector_store = DocArrayInMemorySearch.from_documents(docs, embeddings)"
   ]
  },
  {
   "cell_type": "code",
   "execution_count": null,
   "id": "148052c8-f9c4-4529-80be-db990d8a0568",
   "metadata": {},
   "outputs": [],
   "source": [
    "res=vector_store.similarity_search(query=\"find blue anoraks for men\",score_threshold=0.8)\n",
    "res[0]"
   ]
  },
  {
   "cell_type": "code",
   "execution_count": null,
   "id": "ec6e41d2-110e-45ae-92cd-b2f18bd7fd17",
   "metadata": {},
   "outputs": [],
   "source": [
    "chat_llm = ChatOpenAI(temperature = 0.0)\n",
    "chain = RetrievalQA.from_chain_type(retriever = vector_store.as_retriever(), llm=chat_llm, verbose=True)\n",
    "chain.run(\"find  trekking shorts for men\")"
   ]
  }
 ],
 "metadata": {
  "kernelspec": {
   "display_name": "Python 3 (ipykernel)",
   "language": "python",
   "name": "python3"
  },
  "language_info": {
   "codemirror_mode": {
    "name": "ipython",
    "version": 3
   },
   "file_extension": ".py",
   "mimetype": "text/x-python",
   "name": "python",
   "nbconvert_exporter": "python",
   "pygments_lexer": "ipython3",
   "version": "3.10.6"
  }
 },
 "nbformat": 4,
 "nbformat_minor": 5
}
