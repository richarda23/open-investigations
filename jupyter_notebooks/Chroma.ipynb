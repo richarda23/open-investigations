{
 "cells": [
  {
   "cell_type": "code",
   "execution_count": 1,
   "id": "2ff8c619-75c5-4795-b2d7-0dad03ebbfd3",
   "metadata": {},
   "outputs": [],
   "source": [
    "import chromadb"
   ]
  },
  {
   "cell_type": "code",
   "execution_count": 2,
   "id": "6c5806d1-e16e-44ce-ac4a-1d34a6c1c6d9",
   "metadata": {},
   "outputs": [],
   "source": [
    "client = chromadb.PersistentClient(path=\"chroma-test\")"
   ]
  },
  {
   "cell_type": "code",
   "execution_count": 3,
   "id": "bf7ee281-aeba-4ab9-84b3-10fc700aee1b",
   "metadata": {},
   "outputs": [],
   "source": [
    " collection = client.create_collection(\n",
    "        name=\"coll3e\",\n",
    "        metadata={\"hnsw:space\": \"cosine\"} # l2 is the default\n",
    "    )\n"
   ]
  },
  {
   "cell_type": "code",
   "execution_count": 4,
   "id": "c894b245-fc86-49e7-9e73-b80639c7c771",
   "metadata": {},
   "outputs": [],
   "source": [
    "collection.upsert(\n",
    "    documents=[\"bacon and egg \", \"soft play centre\", \"lettuce and tomato\"],\n",
    "    metadatas=[{\"source\": \"my_source4\", \"color\":\"red\"}, {\"source\": \"my_source5\", \"color\":\"blue\"},{\"source\": \"my_source6\", \"color\":\"green\"}],\n",
    "    ids=[\"id4\", \"id5\", \"id6\"]\n",
    ")"
   ]
  },
  {
   "cell_type": "code",
   "execution_count": 5,
   "id": "e00d2def-0f3d-48a4-b6c2-3e3e4c05201a",
   "metadata": {},
   "outputs": [
    {
     "data": {
      "text/plain": [
       "{'ids': ['id4', 'id5', 'id6'],\n",
       " 'metadatas': [{'color': 'red', 'source': 'my_source4'},\n",
       "  {'color': 'blue', 'source': 'my_source5'},\n",
       "  {'color': 'green', 'source': 'my_source6'}],\n",
       " 'documents': ['bacon and egg ', 'soft play centre', 'lettuce and tomato']}"
      ]
     },
     "execution_count": 5,
     "metadata": {},
     "output_type": "execute_result"
    }
   ],
   "source": [
    "{k:v for k,v in  collection.peek().items() if k !='embeddings'}"
   ]
  },
  {
   "cell_type": "code",
   "execution_count": 6,
   "id": "ded3625f-2ed1-4df3-9e5f-a3f746cc79a4",
   "metadata": {},
   "outputs": [
    {
     "data": {
      "text/plain": [
       "3"
      ]
     },
     "execution_count": 6,
     "metadata": {},
     "output_type": "execute_result"
    }
   ],
   "source": [
    "collection.count()"
   ]
  },
  {
   "cell_type": "code",
   "execution_count": 7,
   "id": "35745645-a15d-4918-a73b-62b733416549",
   "metadata": {},
   "outputs": [
    {
     "data": {
      "text/plain": [
       "[Collection(name=coll3e)]"
      ]
     },
     "execution_count": 7,
     "metadata": {},
     "output_type": "execute_result"
    }
   ],
   "source": [
    "client.list_collections()"
   ]
  },
  {
   "cell_type": "code",
   "execution_count": 8,
   "id": "3eaaa14b-1328-4a90-bb3d-e5deb153fbf4",
   "metadata": {},
   "outputs": [
    {
     "data": {
      "text/plain": [
       "{'ids': ['id4', 'id5', 'id6'],\n",
       " 'metadatas': [{'color': 'red', 'source': 'my_source4'},\n",
       "  {'color': 'blue', 'source': 'my_source5'},\n",
       "  {'color': 'green', 'source': 'my_source6'}],\n",
       " 'documents': ['bacon and egg ', 'soft play centre', 'lettuce and tomato']}"
      ]
     },
     "execution_count": 8,
     "metadata": {},
     "output_type": "execute_result"
    }
   ],
   "source": [
    "{k:v for k,v in  collection.peek().items() if k !='embeddings'}"
   ]
  },
  {
   "cell_type": "code",
   "execution_count": 9,
   "id": "67c78b08-919f-4673-9951-a23e25cb847c",
   "metadata": {},
   "outputs": [
    {
     "data": {
      "text/plain": [
       "{'ids': [['id6']],\n",
       " 'distances': [[0.749186578938603]],\n",
       " 'metadatas': [[{'color': 'green', 'source': 'my_source6'}]],\n",
       " 'embeddings': None,\n",
       " 'documents': [['lettuce and tomato']]}"
      ]
     },
     "execution_count": 9,
     "metadata": {},
     "output_type": "execute_result"
    }
   ],
   "source": [
    "collection.query(query_texts=\"tasty meaty food\",n_results=2, where_document={\"$contains\":\"lettuce\"}, where={\"$or\" : [{\"color\":\"green\"},{\"source\":\"my_source5\"}]})"
   ]
  },
  {
   "cell_type": "code",
   "execution_count": 83,
   "id": "99f167f1-c6a3-489d-8d2a-9859cf7db807",
   "metadata": {},
   "outputs": [],
   "source": [
    "collection.delete()"
   ]
  },
  {
   "cell_type": "code",
   "execution_count": null,
   "id": "24c9f2c2-24f9-441e-bb7c-5aede4df147f",
   "metadata": {},
   "outputs": [],
   "source": [
    "## now let's use langchain wrapper"
   ]
  },
  {
   "cell_type": "code",
   "execution_count": 44,
   "id": "e241b4c5-5d4c-4bd6-9d55-8d6da0c6338a",
   "metadata": {},
   "outputs": [],
   "source": [
    "from langchain.vectorstores.chroma import Chroma\n",
    "from langchain.docstore.document import Document\n",
    "from langchain.embeddings import OpenAIEmbeddings"
   ]
  },
  {
   "cell_type": "code",
   "execution_count": 50,
   "id": "0ab997f5-ed7e-47d9-a179-881e4f9d3dfb",
   "metadata": {},
   "outputs": [],
   "source": [
    "documents=[\"bacon and egg \", \"soft play centre\", \"soft lettuce and tomato\"]\n",
    "metadatas=[{\"source\": \"my_source4\", \"color\":\"red\"}, {\"source\": \"my_source5\", \"color\":\"blue\"},{\"source\": \"my_source6\", \"color\":\"green\"}]\n",
    "docs = [Document(page_content=p, metadata=m) for p,m in zip(documents, metadatas)]"
   ]
  },
  {
   "cell_type": "code",
   "execution_count": 56,
   "id": "0db9bd76-5fbb-4e60-bcec-1c1e4205b921",
   "metadata": {},
   "outputs": [],
   "source": [
    "v_store = Chroma.from_documents(docs, OpenAIEmbeddings(), collection_name=\"xxx\")"
   ]
  },
  {
   "cell_type": "code",
   "execution_count": 59,
   "id": "018f24ef-801b-471a-8dfc-07b1ef4b4df6",
   "metadata": {},
   "outputs": [
    {
     "data": {
      "text/plain": [
       "[(Document(page_content='bacon and egg ', metadata={'color': 'red', 'source': 'my_source4'}),\n",
       "  0.7072209108931617),\n",
       " (Document(page_content='soft lettuce and tomato', metadata={'color': 'green', 'source': 'my_source6'}),\n",
       "  0.6637830411921064)]"
      ]
     },
     "execution_count": 59,
     "metadata": {},
     "output_type": "execute_result"
    }
   ],
   "source": [
    "v_store.similarity_search_with_relevance_scores(\"hdfjskf fdjsfds \", k=3, where_document={\"$contains\": \"and\"})\n"
   ]
  },
  {
   "cell_type": "code",
   "execution_count": null,
   "id": "b9fa4d09-1d1f-4b91-a349-6db450dd6eb0",
   "metadata": {},
   "outputs": [],
   "source": [
    "from langchain.retrievers.self_query import "
   ]
  }
 ],
 "metadata": {
  "kernelspec": {
   "display_name": "Python 3 (ipykernel)",
   "language": "python",
   "name": "python3"
  },
  "language_info": {
   "codemirror_mode": {
    "name": "ipython",
    "version": 3
   },
   "file_extension": ".py",
   "mimetype": "text/x-python",
   "name": "python",
   "nbconvert_exporter": "python",
   "pygments_lexer": "ipython3",
   "version": "3.10.6"
  }
 },
 "nbformat": 4,
 "nbformat_minor": 5
}
