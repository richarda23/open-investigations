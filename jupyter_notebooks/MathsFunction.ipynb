{
 "cells": [
  {
   "cell_type": "code",
   "execution_count": 61,
   "id": "a62c9d57-0ac0-4ea6-aaeb-ae59f9b57dc5",
   "metadata": {},
   "outputs": [],
   "source": [
    "import json\n",
    "import openai\n",
    "import requests\n",
    "from tenacity import retry, wait_random_exponential, stop_after_attempt\n",
    "from termcolor import colored\n",
    "\n",
    "GPT_MODEL = \"gpt-4\""
   ]
  },
  {
   "cell_type": "code",
   "execution_count": 2,
   "id": "e4960c6f-6a79-4e7a-901c-765c4a17b492",
   "metadata": {},
   "outputs": [],
   "source": [
    "@retry(wait=wait_random_exponential(multiplier=1, max=40), stop=stop_after_attempt(3))\n",
    "def chat_completion_request(messages, functions=None, function_call=None, model=GPT_MODEL):\n",
    "    headers = {\n",
    "        \"Content-Type\": \"application/json\",\n",
    "        \"Authorization\": \"Bearer \" + openai.api_key,\n",
    "    }\n",
    "    json_data = {\"model\": model, \"messages\": messages}\n",
    "    if functions is not None:\n",
    "        json_data.update({\"functions\": functions})\n",
    "    if function_call is not None:\n",
    "        json_data.update({\"function_call\": function_call})\n",
    "    try:\n",
    "        response = requests.post(\n",
    "            \"https://api.openai.com/v1/chat/completions\",\n",
    "            headers=headers,\n",
    "            json=json_data,\n",
    "        )\n",
    "        return response\n",
    "    except Exception as e:\n",
    "        print(\"Unable to generate ChatCompletion response\")\n",
    "        print(f\"Exception: {e}\")\n",
    "        return e"
   ]
  },
  {
   "cell_type": "code",
   "execution_count": 63,
   "id": "4a62d225-5b11-40d0-840a-a61409b26306",
   "metadata": {},
   "outputs": [],
   "source": [
    "functions = [\n",
    "  { \n",
    "    \"name\" : \"multiply\",\n",
    "    \"description\": \"multiplies a list of numbers to produce a result\",\n",
    "    \"parameters\": {\n",
    "      \"type\" : \"object\",\n",
    "      \"properties\": {\n",
    "        \"args\": {\n",
    "            \"type\":\"array\",\n",
    "             \"items\" : {\n",
    "                \"type\" : \"number\"\n",
    "             }\n",
    "         }\n",
    "       } \n",
    "     \n",
    "     }\n",
    "    },\n",
    "    { \n",
    "    \"name\" : \"alternate_cases\",\n",
    "    \"description\": \"converts alternate characters to upper and lower case\",\n",
    "    \"parameters\": {\n",
    "      \"type\" : \"object\",\n",
    "      \"properties\": {\n",
    "        \"input\": {\n",
    "            \"type\":\"string\",\n",
    "         }\n",
    "       } \n",
    "     }\n",
    "    }  \n",
    "]\n",
    "\n",
    "    \n",
    "def multiply(*args):\n",
    "    result = 1\n",
    "    for x in  args:\n",
    "        result = result * x\n",
    "    return result\n",
    "\n",
    "def alternate_cases (input):\n",
    "    i = 0\n",
    "    rc = \"\"\n",
    "    for c in input:\n",
    "        c  = i % 2 == 0?c\n",
    "            c = c.lower()\n",
    "        else:\n",
    "            c = c.upper()\n",
    "        rc += c\n",
    "        i+=1\n",
    "    return rc\n",
    "\n",
    "available_funcs = {\n",
    " \"multiply\": multiply,\n",
    " \"alternate_cases\": alternate_cases\n",
    "}\n",
    "\n",
    "    "
   ]
  },
  {
   "cell_type": "code",
   "execution_count": 66,
   "id": "68bcf22d-89e1-4991-bd05-a8ebef16a09f",
   "metadata": {},
   "outputs": [
    {
     "name": "stdout",
     "output_type": "stream",
     "text": [
      "{'name': 'multiply', 'description': 'multiplies a list of numbers to produce a result', 'parameters': {'type': 'object', 'properties': {'args': {'type': 'array', 'items': {'type': 'number'}}}}}\n"
     ]
    }
   ],
   "source": [
    "print(list(filter(lambda x: x['name']=='multiply', functions))[0])"
   ]
  },
  {
   "cell_type": "code",
   "execution_count": 47,
   "id": "d6179965-bef5-4273-94d8-5067b7b91d6e",
   "metadata": {},
   "outputs": [],
   "source": [
    "messages = [\n",
    " {\n",
    "     \"role\" :\"system\",\n",
    "     \"content\": \"respond to user input\"\n",
    " },\n",
    "\n",
    "    {\n",
    "     \"role\" : \"user\",\n",
    "     \"content\": \"alternate cases in this sentence: 'hello I am Bob'\"\n",
    " }\n",
    "]"
   ]
  },
  {
   "cell_type": "code",
   "execution_count": 70,
   "id": "dabf53c0-1f83-40c9-bbbb-f6920945e755",
   "metadata": {},
   "outputs": [
    {
     "name": "stdout",
     "output_type": "stream",
     "text": [
      "hElLo i aM BoB\n"
     ]
    }
   ],
   "source": [
    "chat_response = chat_completion_request(messages, functions)\n",
    "jsonR = chat_response.json()\n",
    "mess = jsonR[\"choices\"][0][\"message\"]\n",
    "if mess['function_call'] is not None:\n",
    "    funcName = mess['function_call']['name']\n",
    "    toExecute = list(filter(lambda x: x['name']==funcName, functions))[0]\n",
    "    args = json.loads(mess[\"function_call\"][\"arguments\"])\n",
    "    print(available_funcs[funcName](args['input']))"
   ]
  },
  {
   "cell_type": "code",
   "execution_count": 14,
   "id": "6e723e19-265b-4ea2-b98c-a6649d6a5c64",
   "metadata": {},
   "outputs": [],
   "source": [
    "print(openai.api_key)\n"
   ]
  },
  {
   "cell_type": "code",
   "execution_count": null,
   "id": "6cf1ced1-ba79-4b0f-b386-7e702825dde9",
   "metadata": {},
   "outputs": [],
   "source": []
  }
 ],
 "metadata": {
  "kernelspec": {
   "display_name": "Python 3 (ipykernel)",
   "language": "python",
   "name": "python3"
  },
  "language_info": {
   "codemirror_mode": {
    "name": "ipython",
    "version": 3
   },
   "file_extension": ".py",
   "mimetype": "text/x-python",
   "name": "python",
   "nbconvert_exporter": "python",
   "pygments_lexer": "ipython3",
   "version": "3.10.6"
  }
 },
 "nbformat": 4,
 "nbformat_minor": 5
}
