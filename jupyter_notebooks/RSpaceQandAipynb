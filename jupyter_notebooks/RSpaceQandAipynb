{
 "cells": [
  {
   "cell_type": "code",
   "execution_count": null,
   "id": "dc2ca7c4-edb2-4949-9893-81f6e5dbeb34",
   "metadata": {},
   "outputs": [],
   "source": [
    "from langchain.document_loaders.github import GitHubIssuesLoader\n",
    "import os\n",
    "\n",
    "from dotenv import load_dotenv\n",
    "\n",
    "load_dotenv()\n",
    "\n",
    "GHA_TOKEN = os.getenv('GHA')\n",
    "os.getenv('OPENAI_API_KEY')"
   ]
  },
  {
   "cell_type": "code",
   "execution_count": 193,
   "id": "86ef2650-96b1-4a1a-8d8d-69df0b1a620f",
   "metadata": {},
   "outputs": [
    {
     "data": {
      "text/plain": [
       "Document(page_content='Is biojava ready to support java17? If not what is the plan to migrate it to java17?\\r\\n\\r\\nThanks for maintaining this awesome library. It is really helpful.', metadata={'url': 'https://github.com/biojava/biojava/issues/1071', 'title': 'New release based on Java 17', 'creator': 'rizwan-ishtiaq', 'created_at': '2023-07-27T11:03:12Z', 'comments': 1, 'state': 'open', 'labels': [], 'assignee': None, 'milestone': None, 'locked': False, 'number': 1071, 'is_pull_request': False})"
      ]
     },
     "execution_count": 193,
     "metadata": {},
     "output_type": "execute_result"
    }
   ],
   "source": [
    "loader = GitHubIssuesLoader(repo=\"biojava/biojava\",access_token=GHA_TOKEN, include_prs=False)\n",
    "docs=loader.load()\n",
    "docs[0].to_json()\n",
    "len(docs)\n",
    "docs[0]"
   ]
  },
  {
   "cell_type": "code",
   "execution_count": 194,
   "id": "dfc9e8d1-9603-4198-8e4c-707e7a3a6bce",
   "metadata": {},
   "outputs": [
    {
     "name": "stdout",
     "output_type": "stream",
     "text": [
      "Is biojava ready to support java17? If not what is the plan to migrate it to java17?\n",
      "\n",
      "Thanks for m\n",
      "----\n",
      "\n",
      "While analyzing your project using our Automatic bug fixing software, i noticed that sonar rule S2\n",
      "----\n",
      "Hi,\n",
      "\n",
      "After suggesting that you correct this type of defect automatically (https://github.com/bioja\n",
      "----\n",
      "Hi!\n",
      "\n",
      "We notice that you use the loop structure in your test cases.\n",
      "For example, testQualityScores\n",
      "----\n",
      "I am using BioJava through Maven, using biojava 6.0.5 and biojava-ws 6.0.4 (because trying to use 6.\n",
      "----\n",
      "I think `Profile` was indended to be general enough to represent multiple sequence alignments. Howev\n",
      "----\n",
      "Given a transcript sequence derived from a GeneSequence defined on reverse strand of a chromosomal s\n",
      "----\n",
      "Hi,\n",
      " Been looking at the ontology module as it might be useful in my day job. \n",
      " I tried parsing th\n",
      "----\n",
      "...while setting all the metadata consistently and handling ligands intuitively (i.e. keeping the ad\n",
      "----\n",
      "D-AminoAcids (https://proteopedia.org/wiki/index.php/Amino_Acids) are optical isomers or enantiomers\n",
      "----\n",
      "Hello, \n",
      "\n",
      "I am software developer (new to biojava) currently using the Biojava API [biojava-core - \n",
      "----\n",
      "All files needed are from phosphosite resource, e.g.: \n",
      "\n",
      "https://www.phosphosite.org/downloads/Acet\n",
      "----\n",
      "The validation files are provided from **PDBe**, in [ftp.ebi.ac.uk/pub/databases/pdb/validation_repo\n",
      "----\n",
      "Test coverage is little low - covering more code would enable\n",
      " - more confident refactoring. In a c\n",
      "----\n",
      "Hello,\n",
      "\n",
      "I have recently been working on adding an accession ID to a few hundred GenBank files usin\n",
      "----\n",
      "While working on issue #843 I had a look at the EMBL file parser (PR  #919).\n",
      "\n",
      "I used test `givenAn\n",
      "----\n",
      "In #906, @Vidishab18 showed some test cases using [AlignmentTools.toConciseAlignmentString](https://\n",
      "----\n",
      "The [Citation File Format](https://citation-file-format.github.io/) is a standard for improving cita\n",
      "----\n",
      "I get a `NullPointerException` when running the following code:\n",
      "\n",
      "```java\n",
      "String pdb = \"4i4q\";\n",
      "St\n",
      "----\n",
      "Running CE-Symm on multi-model structures seems to concatenate all models. This is desirable for the\n",
      "----\n",
      "For examples look at 6CL5, 6GAO, 5JXC.\n",
      "\n",
      "The problem, I believe, is in the following:\n",
      "1. Subunits \n",
      "----\n",
      "A discussion came up in PR #774 regarding the correct behavior when parsing an mmCif file without `a\n",
      "----\n",
      "From Pace et al, 1995:\n",
      "\n",
      "> The molar absorption coefficient, E, of a protein is usually based on co\n",
      "----\n",
      "Now that the dssp algorithm for secondary structure assignment is implemented in biojava (see #336),\n",
      "----\n",
      "Hi All, \n",
      "\n",
      "I'm working with custom PDB Files and I'm getting StringIndexOutOufBondsException from t\n",
      "----\n",
      "CATH releases [daily snapshots](http://cathdb.info/wiki/doku/?id=index#cath_daily_snapshot). It woul\n",
      "----\n",
      "ECOD is currently the most up-to-date classification scheme. Early versions had some issues with ill\n",
      "----\n",
      "AtomCache doesn't fetch obsolete entries if configured to use MMTF.\n",
      "\n",
      "I  believe that RCSB is not p\n",
      "----\n",
      "Hi guys, it might be an issue with the code on my end, but although my BasePairParameters class work\n",
      "----\n",
      "See issue:\n",
      "https://github.com/rcsb/mmtf-python/issues/28\n",
      "\n",
      "I looked at the entity information in t\n",
      "----\n",
      "Hi,\n",
      "The code only keeps one alt_id for a term since it stores it as a value for [alt_id](https://gi\n",
      "----\n",
      "Make use of the Protonation Variants Companion Dictionary (https://www.wwpdb.org/data/ccd) in additi\n",
      "----\n",
      "The idea is to fill in the missing fields of BioJava structures loaded from PDB files in order to be\n",
      "----\n",
      "It is currently marked as work in progress.\n",
      "----\n",
      "What's the intended meaning of `PDBHeader.getDescription`? It is populated in mmCIF with the `_struc\n",
      "----\n",
      "When trying to display a structure in **Jmol**, for example from the `MultipleAlignmentGUI`, the fol\n",
      "----\n",
      "When an alignment is performed in the `AlignmentGUI`, the resulting Jmol panel does show the first s\n",
      "----\n",
      "AbstractSequence always gets very first occurrence of source:db_xref and uses it as a taxon ID.\n",
      "[li\n",
      "----\n",
      "Most methods to convert `MultipleAlignment` objects into String formats (FASTA, FatCat, XML) need st\n",
      "----\n",
      "This has been discussed numerous times, but I didn't see an issue devoted to it.\n",
      "\n",
      "The unit tests c\n",
      "----\n",
      "Since we are releasing a new version of biojava that introduces a number of **API** changes, I would\n",
      "----\n",
      "It would be great to be able to create sequence aligner objects without specifying target and query \n",
      "----\n",
      "see this thread on the mailing list\n",
      "\n",
      "http://lists.open-bio.org/pipermail/biojava-l/2016-July/011489.\n",
      "----\n",
      "D2 cases use a cube for the polyhedron representation. The main (red) axis goes through a face, but \n",
      "----\n",
      "I encountered an Exception when trying to parse some structures, with something that seems related t\n",
      "----\n",
      "Creating a new `contact.ResidueIdentifier` (not to be confused with `ResidueNumber`) requires that t\n",
      "----\n",
      "It is very usual that beta sheets form through symmetry partners in the crystal (be them biological \n",
      "----\n",
      "this does not work:\n",
      "\n",
      "bash runCE.sh -file1 /tmp/data/structures/divided/mmCIF/cd/1cdg.cif.gz -file2 f\n",
      "----\n",
      "I've started building a test suite for the \"toSdf\" method.\n",
      "\n",
      "Need improved error handling and to deal\n",
      "----\n",
      "Related to #393. The idea is to extract _selectors_ from the alignment data structures in BioJava (*\n",
      "----\n",
      "Currently the CE-symm visualization is tied closely to Jmol. Add a couple of utility classes that ma\n",
      "----\n",
      "The secondary structure assigned by the authors can only be parsed with the PDBFileParser.\n",
      "\n",
      "----\n",
      "The structural alignment algorithms currently implemented in biojava, **CE** and **FatCat**, have a \n",
      "----\n",
      "see discussion on the mailing list\n",
      "\n",
      "http://mailman.open-bio.org/pipermail/biojava-l/2015-March/01136\n",
      "----\n",
      "We don't have an easy way of serializing/deserializing a collection of sequences. This does not work\n",
      "----\n",
      "A missing feature in the alignment package is that of semiglobal alignments, useful for aligning a s\n",
      "----\n",
      "would be great to be able to create a Profile from some of the popular file formats for representing\n",
      "----\n",
      "PDB and mmCIF files use symmetry operators to reduce the number of atoms which need to be specified.\n",
      "----\n",
      "The alignments are defined in such a way that it is not possible to have consecutive gaps. Here's a \n",
      "----\n",
      "I'm trying to implement an amino acid frequency calculator. I've finished it but I'm using `Sequence\n",
      "----\n",
      "Add a parser for [MrBayes](http://mrbayes.sourceforge.net/) output.\n",
      "\n",
      "_Suggested for [GSoC 2012](http\n",
      "----\n",
      "Variation APIs that bring together Ensembl Variation, VCF file format, GFF3+GVF file format, samtool\n",
      "----\n",
      "Add a parser for the [BaliBASE 3](http://www-bio3d-igbmc.u-strasbg.fr/balibase) multiple alignment b\n",
      "----\n",
      "Hello, \n",
      "\n",
      "I would like to extract references to publications from genbank entries, which is unfortuna\n",
      "----\n",
      "SCOP2 was recently published: [[server]](http://scop2.mrc-lmb.cam.ac.uk/) [[paper]](http://nar.oxfor\n"
     ]
    }
   ],
   "source": [
    "len(docs)\n",
    "summaries = [d.page_content[0:100] for d in  docs]\n",
    "print('\\n----\\n'.join(summaries))\n"
   ]
  },
  {
   "cell_type": "code",
   "execution_count": 195,
   "id": "bdd23c44-e9ea-4a76-854c-650736844c17",
   "metadata": {},
   "outputs": [],
   "source": [
    "from langchain.text_splitter import CharacterTextSplitter, RecursiveCharacterTextSplitter\n",
    "from langchain.vectorstores.utils import filter_complex_metadata\n",
    "filtered = filter_complex_metadata(docs)"
   ]
  },
  {
   "cell_type": "code",
   "execution_count": 196,
   "id": "44908bba-a990-41af-a708-e2e3a745ed8c",
   "metadata": {},
   "outputs": [
    {
     "data": {
      "text/plain": [
       "369"
      ]
     },
     "execution_count": 196,
     "metadata": {},
     "output_type": "execute_result"
    }
   ],
   "source": [
    "c = CharacterTextSplitter(chunk_size=100, chunk_overlap=20)\n",
    "r = RecursiveCharacterTextSplitter(chunk_size=240, chunk_overlap=40)\n",
    "all_chunks = r.split_documents(filtered)\n",
    "all_chunks[0]\n",
    "len(all_chunks)\n",
    "    "
   ]
  },
  {
   "cell_type": "code",
   "execution_count": 197,
   "id": "7b7b013f-c2a6-4507-b71b-ba29b3705e65",
   "metadata": {},
   "outputs": [],
   "source": [
    "from langchain.embeddings import OpenAIEmbeddings\n",
    "from langchain.vectorstores import Chroma\n",
    "from langchain.vectorstores.utils import filter_complex_metadata\n"
   ]
  },
  {
   "cell_type": "code",
   "execution_count": 198,
   "id": "840d28db-3657-491f-ab41-a4e36ed7145b",
   "metadata": {},
   "outputs": [
    {
     "data": {
      "text/plain": [
       "{'url': 'https://github.com/biojava/biojava/issues/1071',\n",
       " 'title': 'New release based on Java 17',\n",
       " 'creator': 'rizwan-ishtiaq',\n",
       " 'created_at': '2023-07-27T11:03:12Z',\n",
       " 'comments': 1,\n",
       " 'state': 'open',\n",
       " 'locked': False,\n",
       " 'number': 1071,\n",
       " 'is_pull_request': False}"
      ]
     },
     "execution_count": 198,
     "metadata": {},
     "output_type": "execute_result"
    }
   ],
   "source": [
    "filtered = filter_complex_metadata(docs)\n",
    "filtered[0].metadata"
   ]
  },
  {
   "cell_type": "code",
   "execution_count": 199,
   "id": "faa060aa-d7d8-43a3-85f8-7491e1279282",
   "metadata": {},
   "outputs": [
    {
     "data": {
      "text/plain": [
       "[Document(page_content=\"Given a transcript sequence derived from a GeneSequence defined on reverse strand of a chromosomal sequence, the method getCodingSequence doesn't return the reverse complement, but just the reverse.\\r\\n\\r\\nThis seems to be due to the complement being made twice:\\r\\n\\r\\n```java\\r\\nString sequence = this.getSequenceAsString(getBioBegin(), getBioEnd(), getStrand()); \\r\\n```\\r\\nin CDSSequence# getCodingSequence() \\r\\n\\r\\ngenerates the reverse complement, but subsequent code makes a complementary sequence again, so the end result is simply a reversed sequence.\\r\\n\\r\\nA simple fix might be just to remove this second complementation, but possibly it might be needed in some circumstances.\\r\\n\\r\\nThe bug is exposed by test TranscriptSequenceTest#getCDNASeqNegativeStrand() \\r\\n\\r\\n\", metadata={'url': 'https://github.com/biojava/biojava/issues/1016', 'title': \"o.b.n.core.sequence.CDSSequence doesn't reverse-complement correctly\", 'creator': 'richarda23', 'created_at': '2022-01-04T18:11:50Z', 'comments': 0, 'state': 'open', 'locked': False, 'number': 1016, 'is_pull_request': False}),\n",
       " Document(page_content=\"Hi,\\r\\n Been looking at the ontology module as it might be useful in my day job. \\r\\n I tried parsing the latest GO flatfile at http://geneontology.org/docs/download-ontology/#go_basic and the parser handles it OK  (ie it doesn't crash). But with the low number of tests, documentation and sample code it's hard to be confident that it's parsing everything correctly for use in  production system.\\r\\n\\r\\nWould it be worth giving this module a bit of attention? Specifically\\r\\n- enhancing test coverage especially w.r.t supporting OBO spec\\r\\n- improving Javadoc and sample code\\r\\n- adding a README to the project\\r\\n- updating code style/formatting and using more modern Java 7/8 idioms (once test coverage is much better)\\r\\n\\r\\nAlso, I'm interested in using Go annotation format files - http://geneontology.org/docs/go-annotation-file-gaf-format-2.2 - is a parser  for this something that would belong in this module?\\r\\n\\r\\nI'd be happy to take a stab at some of these tasks unless there are strong contrary opinions.\", metadata={'url': 'https://github.com/biojava/biojava/issues/1013', 'title': 'Maintenance  of  ontology module', 'creator': 'richarda23', 'created_at': '2022-01-04T16:23:43Z', 'comments': 1, 'state': 'open', 'locked': False, 'number': 1013, 'is_pull_request': False}),\n",
       " Document(page_content=\"Test coverage is little low - covering more code would enable\\r\\n - more confident refactoring. In a code-base with contributions over a long period of time there are cases where new language features can replace existing code in perhaps a more reliable way, but without tests it's sometimes hard to be sure \\r\\n - greater confidence in the existing functionality\\r\\n - self-documentation of methods\\r\\n - identifying obsolete or unused code which could perhaps be scheduled for removal or marked deprecated?\\r\\n\\r\\nLike covid vaccination rates 100% is unachievable but 50% is a bit on the low side, especially for a library project. \\r\\nMaking sure all public methods are invoked in test code would be a start, and it could be incremental.\\r\\nI'll attach a PR adding some tests for some utility methods which identified 1 bug to get the ball rolling...\", metadata={'url': 'https://github.com/biojava/biojava/issues/944', 'title': 'Improve test coverage - currently 49.5% in bio-java core', 'creator': 'richarda23', 'created_at': '2021-07-23T16:43:52Z', 'comments': 6, 'state': 'open', 'locked': False, 'number': 944, 'is_pull_request': False})]"
      ]
     },
     "execution_count": 199,
     "metadata": {},
     "output_type": "execute_result"
    }
   ],
   "source": [
    "  from collections import Counter\n",
    "  mine = [f  for f in filtered if f.metadata['creator'] == 'richarda23']\n",
    "  c=Counter(authors)\n",
    "  c.most_common(5)\n",
    "mine\n",
    "  "
   ]
  },
  {
   "cell_type": "code",
   "execution_count": 200,
   "id": "e4633ec9-a1eb-44c1-861e-1c0190a253cc",
   "metadata": {},
   "outputs": [
    {
     "data": {
      "text/plain": [
       "369"
      ]
     },
     "execution_count": 200,
     "metadata": {},
     "output_type": "execute_result"
    }
   ],
   "source": [
    "v_store = Chroma.from_documents(documents=all_chunks, embedding=OpenAIEmbeddings(), persist_directory=\"./chroma\")\n",
    "v_store._collection.count()"
   ]
  },
  {
   "cell_type": "code",
   "execution_count": 201,
   "id": "a6435c47-c168-4c31-9d92-a6a6587928b1",
   "metadata": {},
   "outputs": [
    {
     "data": {
      "text/plain": [
       "[Document(page_content='method will align sequences using this object.', metadata={'comments': 0, 'created_at': '2016-08-04T14:46:54Z', 'creator': 'lafita', 'is_pull_request': False, 'locked': False, 'milestone': '6.1.0', 'number': 550, 'state': 'open', 'title': 'Create SequenceAligner objects without specifying query and target sequences', 'url': 'https://github.com/biojava/biojava/issues/550'}),\n",
       " Document(page_content='A missing feature in the alignment package is that of semiglobal alignments, useful for aligning a short query sequence against a large target database (e.g. a genome).', metadata={'assignee': 'josemduarte', 'comments': 4, 'created_at': '2015-01-26T14:06:08Z', 'creator': 'josemduarte', 'is_pull_request': False, 'locked': False, 'number': 243, 'state': 'open', 'title': 'Introduction of semiglobal alignments', 'url': 'https://github.com/biojava/biojava/issues/243'}),\n",
       " Document(page_content='See [this wikipedia paragraph](http://en.wikipedia.org/wiki/Sequence_alignment#Global_and_local_alignments)', metadata={'assignee': 'josemduarte', 'comments': 4, 'created_at': '2015-01-26T14:06:08Z', 'creator': 'josemduarte', 'is_pull_request': False, 'locked': False, 'number': 243, 'state': 'open', 'title': 'Introduction of semiglobal alignments', 'url': 'https://github.com/biojava/biojava/issues/243'}),\n",
       " Document(page_content='the sequence alignment panel shows both subunits (and it is correct).', metadata={'comments': 1, 'created_at': '2017-01-13T15:03:57Z', 'creator': 'lafita', 'is_pull_request': False, 'locked': False, 'number': 628, 'state': 'open', 'title': 'Second structure of superpositions not present in the StructureAlignmentJmol panel', 'url': 'https://github.com/biojava/biojava/issues/628'})]"
      ]
     },
     "execution_count": 201,
     "metadata": {},
     "output_type": "execute_result"
    }
   ],
   "source": [
    "results = v_store.similarity_search(query = \"alignment\", k=4, score_threshold=0.8)\n",
    "results"
   ]
  },
  {
   "cell_type": "code",
   "execution_count": 202,
   "id": "f14ea388-8ffc-4a96-b675-6ec8c7a62f95",
   "metadata": {},
   "outputs": [],
   "source": [
    "from langchain.llms import OpenAI\n",
    "from langchain.retrievers.self_query.base import SelfQueryRetriever\n",
    "from langchain.chains.query_constructor.base import AttributeInfo\n"
   ]
  },
  {
   "cell_type": "code",
   "execution_count": 203,
   "id": "31ce9049-965d-417a-a9a4-8829f64d8fc5",
   "metadata": {},
   "outputs": [],
   "source": [
    "att_info = [\n",
    "    AttributeInfo(name=\"creator\", description = \"the creator of the Github issue\", type=\"string\"),\n",
    "    AttributeInfo(name=\"created_at\", description = \"the timestamp of issue creation in ISO-8601 format\", type=\"datetime.date\"),\n",
    "]\n",
    "sqretriever = SelfQueryRetriever.from_llm(llm=OpenAI(),\n",
    "                                        vectorstore=v_store,\n",
    "                                        metadata_field_info=att_info,\n",
    "                                        document_contents=\"Bio java issues\",\n",
    "                                        verbose=True)"
   ]
  },
  {
   "cell_type": "code",
   "execution_count": 231,
   "id": "685ca476-a65f-4788-9c2f-8d33e16f914e",
   "metadata": {},
   "outputs": [
    {
     "name": "stderr",
     "output_type": "stream",
     "text": [
      "/Users/richard.c.adams/.local/share/virtualenvs/jupyter_notebooks-h594mpzp/lib/python3.10/site-packages/langchain/chains/llm.py:280: UserWarning: The predict_and_parse method is deprecated, instead pass an output parser directly to LLMChain.\n",
      "  warnings.warn(\n"
     ]
    },
    {
     "name": "stdout",
     "output_type": "stream",
     "text": [
      "query=' ' filter=Comparison(comparator=<Comparator.EQ: 'eq'>, attribute='creator', value='richarda23') limit=None\n"
     ]
    },
    {
     "data": {
      "text/plain": [
       "[Document(page_content=\"without tests it's sometimes hard to be sure\", metadata={'comments': 6, 'created_at': '2021-07-23T16:43:52Z', 'creator': 'richarda23', 'is_pull_request': False, 'locked': False, 'number': 944, 'state': 'open', 'title': 'Improve test coverage - currently 49.5% in bio-java core', 'url': 'https://github.com/biojava/biojava/issues/944'}),\n",
       " Document(page_content=\"I'd be happy to take a stab at some of these tasks unless there are strong contrary opinions.\", metadata={'comments': 1, 'created_at': '2022-01-04T16:23:43Z', 'creator': 'richarda23', 'is_pull_request': False, 'locked': False, 'number': 1013, 'state': 'open', 'title': 'Maintenance  of  ontology module', 'url': 'https://github.com/biojava/biojava/issues/1013'}),\n",
       " Document(page_content='- adding a README to the project\\r\\n- updating code style/formatting and using more modern Java 7/8 idioms (once test coverage is much better)', metadata={'comments': 1, 'created_at': '2022-01-04T16:23:43Z', 'creator': 'richarda23', 'is_pull_request': False, 'locked': False, 'number': 1013, 'state': 'open', 'title': 'Maintenance  of  ontology module', 'url': 'https://github.com/biojava/biojava/issues/1013'}),\n",
       " Document(page_content='- greater confidence in the existing functionality\\r\\n - self-documentation of methods\\r\\n - identifying obsolete or unused code which could perhaps be scheduled for removal or marked deprecated?', metadata={'comments': 6, 'created_at': '2021-07-23T16:43:52Z', 'creator': 'richarda23', 'is_pull_request': False, 'locked': False, 'number': 944, 'state': 'open', 'title': 'Improve test coverage - currently 49.5% in bio-java core', 'url': 'https://github.com/biojava/biojava/issues/944'})]"
      ]
     },
     "execution_count": 231,
     "metadata": {},
     "output_type": "execute_result"
    }
   ],
   "source": [
    "results = sqretriever.get_relevant_documents(\"created by richarda23\", verbose=True)\n",
    "results\n"
   ]
  },
  {
   "cell_type": "code",
   "execution_count": 232,
   "id": "087374ad-0ad6-4928-b666-aea89561f9da",
   "metadata": {},
   "outputs": [
    {
     "data": {
      "text/plain": [
       "[Document(page_content='A missing feature in the alignment package is that of semiglobal alignments, useful for aligning a short query sequence against a large target database (e.g. a genome).', metadata={'assignee': 'josemduarte', 'comments': 4, 'created_at': '2015-01-26T14:06:08Z', 'creator': 'josemduarte', 'is_pull_request': False, 'locked': False, 'number': 243, 'state': 'open', 'title': 'Introduction of semiglobal alignments', 'url': 'https://github.com/biojava/biojava/issues/243'}),\n",
       " Document(page_content='I was wondering what is the best solution, because another option could be to import or implement one of the already published non-sequential structure alignment algorithms: e.g. VAST, GANGSTA, SNAP, FlexSnap, SCALI, MICAN, etc', metadata={'comments': 3, 'created_at': '2015-07-31T14:45:05Z', 'creator': 'lafita', 'is_pull_request': False, 'locked': False, 'number': 307, 'state': 'open', 'title': 'New StructuralAlignment Algorithms', 'url': 'https://github.com/biojava/biojava/issues/307'}),\n",
       " Document(page_content='See [this wikipedia paragraph](http://en.wikipedia.org/wiki/Sequence_alignment#Global_and_local_alignments)', metadata={'assignee': 'josemduarte', 'comments': 4, 'created_at': '2015-01-26T14:06:08Z', 'creator': 'josemduarte', 'is_pull_request': False, 'locked': False, 'number': 243, 'state': 'open', 'title': 'Introduction of semiglobal alignments', 'url': 'https://github.com/biojava/biojava/issues/243'}),\n",
       " Document(page_content='However, more general algorithms exist to calculate any non-topological (non-sequential) structural alignment. Some are based on **secondary structure elements (SSE)** alignment, and others use **contact maps** and/or **internal distance', metadata={'comments': 3, 'created_at': '2015-07-31T14:45:05Z', 'creator': 'lafita', 'is_pull_request': False, 'locked': False, 'number': 307, 'state': 'open', 'title': 'New StructuralAlignment Algorithms', 'url': 'https://github.com/biojava/biojava/issues/307'})]"
      ]
     },
     "execution_count": 232,
     "metadata": {},
     "output_type": "execute_result"
    }
   ],
   "source": [
    "from langchain.chains import RetrievalQA\n",
    "from langchain.chat_models  import ChatOpenAI\n",
    "llm = ChatOpenAI(model=\"gpt-4\", temperature=0.9, verbose=True)\n",
    "retriever = v_store.as_retriever( search_kwargs={'k':4})\n",
    "vector_results = retriever.get_relevant_documents(query=\"What issues are about alignment\")\n",
    "\n",
    "vector_results"
   ]
  },
  {
   "cell_type": "code",
   "execution_count": 242,
   "id": "a7c6dab2-aefd-4931-9e2f-558d82962174",
   "metadata": {},
   "outputs": [
    {
     "name": "stdout",
     "output_type": "stream",
     "text": [
      "\n",
      "\n",
      "\u001b[1m> Entering new RetrievalQA chain...\u001b[0m\n",
      "query='test coverage in biojava-core' filter=None limit=None\n",
      "\n",
      "\u001b[1m> Finished chain.\u001b[0m\n"
     ]
    },
    {
     "data": {
      "text/plain": [
       "{'query': 'what is the current test coverage in biojava-core  ',\n",
       " 'result': 'The text does not provide information on the current test coverage in biojava-core.'}"
      ]
     },
     "execution_count": 242,
     "metadata": {},
     "output_type": "execute_result"
    }
   ],
   "source": [
    "qa_chain = RetrievalQA.from_chain_type(llm,chain_type='stuff',retriever=sqretriever,verbose=True )\n",
    "\n",
    "result = qa_chain({\"query\": \"what is the current test coverage in biojava-core  \"})\n",
    "result"
   ]
  },
  {
   "cell_type": "code",
   "execution_count": null,
   "id": "a21671d5-4730-41cc-bfc1-85cfa31023cf",
   "metadata": {},
   "outputs": [],
   "source": []
  },
  {
   "cell_type": "code",
   "execution_count": null,
   "id": "6f167adf-0ef5-412c-a86c-ba4235c8d338",
   "metadata": {},
   "outputs": [],
   "source": []
  },
  {
   "cell_type": "code",
   "execution_count": 226,
   "id": "30334b5e-257d-4846-87f3-5116c0f0a10a",
   "metadata": {},
   "outputs": [
    {
     "data": {
      "text/plain": [
       "{'query': 'What issues are about alignment',\n",
       " 'result': 'The context provided talks about a missing feature in the alignment package - that of semiglobal alignments, which are useful when aligning a short query sequence against a large target database. The context also mentions the possibility of adopting a non-sequential structure alignment algorithm as an alternative option.'}"
      ]
     },
     "execution_count": 226,
     "metadata": {},
     "output_type": "execute_result"
    }
   ],
   "source": [
    "result"
   ]
  },
  {
   "cell_type": "code",
   "execution_count": null,
   "id": "234782b5-26bb-4cfd-bf2d-2a36cff778ec",
   "metadata": {},
   "outputs": [],
   "source": []
  },
  {
   "cell_type": "code",
   "execution_count": 208,
   "id": "30e2d324-61bc-49b3-bcba-1ab8ba133a5c",
   "metadata": {},
   "outputs": [],
   "source": [
    "#v_store.delete_collection()"
   ]
  },
  {
   "cell_type": "code",
   "execution_count": null,
   "id": "b0ab86f3-7136-44eb-b647-5c2d6183c7e9",
   "metadata": {},
   "outputs": [],
   "source": []
  }
 ],
 "metadata": {
  "kernelspec": {
   "display_name": "Python 3 (ipykernel)",
   "language": "python",
   "name": "python3"
  },
  "language_info": {
   "codemirror_mode": {
    "name": "ipython",
    "version": 3
   },
   "file_extension": ".py",
   "mimetype": "text/x-python",
   "name": "python",
   "nbconvert_exporter": "python",
   "pygments_lexer": "ipython3",
   "version": "3.10.6"
  }
 },
 "nbformat": 4,
 "nbformat_minor": 5
}
