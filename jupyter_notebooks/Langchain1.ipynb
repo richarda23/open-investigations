{
 "cells": [
  {
   "cell_type": "code",
   "execution_count": null,
   "id": "dc2ca7c4-edb2-4949-9893-81f6e5dbeb34",
   "metadata": {},
   "outputs": [],
   "source": [
    "from langchain.document_loaders.github import GitHubIssuesLoader\n",
    "import os\n",
    "\n",
    "from dotenv import load_dotenv\n",
    "\n",
    "load_dotenv()\n",
    "\n",
    "GHA_TOKEN = os.getenv('GHA')\n"
   ]
  },
  {
   "cell_type": "code",
   "execution_count": null,
   "id": "86ef2650-96b1-4a1a-8d8d-69df0b1a620f",
   "metadata": {},
   "outputs": [],
   "source": [
    "loader = GitHubIssuesLoader(repo=\"biojava/biojava\",access_token=GHA_TOKEN, include_prs=False)\n",
    "docs=loader.load()\n",
    "docs[0].to_json()\n",
    "len(docs)\n",
    "docs[0]"
   ]
  },
  {
   "cell_type": "code",
   "execution_count": null,
   "id": "dfc9e8d1-9603-4198-8e4c-707e7a3a6bce",
   "metadata": {},
   "outputs": [],
   "source": [
    "len(docs)\n",
    "summaries = [d.page_content[0:100] for d in  docs]\n",
    "print('\\n----\\n'.join(summaries))\n"
   ]
  },
  {
   "cell_type": "code",
   "execution_count": null,
   "id": "bdd23c44-e9ea-4a76-854c-650736844c17",
   "metadata": {},
   "outputs": [],
   "source": [
    "from langchain.text_splitter import CharacterTextSplitter, RecursiveCharacterTextSplitter\n",
    "from langchain.vectorstores.utils import filter_complex_metadata\n",
    "filtered = filter_complex_metadata(docs)"
   ]
  },
  {
   "cell_type": "code",
   "execution_count": null,
   "id": "44908bba-a990-41af-a708-e2e3a745ed8c",
   "metadata": {},
   "outputs": [],
   "source": [
    "c = CharacterTextSplitter(chunk_size=100, chunk_overlap=20)\n",
    "r = RecursiveCharacterTextSplitter(chunk_size=240, chunk_overlap=40)\n",
    "all_chunks = r.split_documents(filtered)\n",
    "all_chunks[0]\n",
    "len(all_chunks)\n",
    "all_chunks[0].metadata\n",
    "    "
   ]
  },
  {
   "cell_type": "code",
   "execution_count": null,
   "id": "7b7b013f-c2a6-4507-b71b-ba29b3705e65",
   "metadata": {},
   "outputs": [],
   "source": [
    "from langchain.embeddings import OpenAIEmbeddings\n",
    "from langchain.vectorstores import Chroma\n",
    "from langchain.vectorstores.utils import filter_complex_metadata\n"
   ]
  },
  {
   "cell_type": "code",
   "execution_count": null,
   "id": "840d28db-3657-491f-ab41-a4e36ed7145b",
   "metadata": {},
   "outputs": [],
   "source": [
    "filtered = filter_complex_metadata(all_chunks)\n",
    "filtered[0].metadata\n",
    "for f in filtered:\n",
    "    del(f.metadata['is_pull_request'])\n",
    "filtered[0].metadata"
   ]
  },
  {
   "cell_type": "code",
   "execution_count": null,
   "id": "e4633ec9-a1eb-44c1-861e-1c0190a253cc",
   "metadata": {},
   "outputs": [],
   "source": [
    "v_store = Chroma.from_documents(documents=filtered, embedding=OpenAIEmbeddings(), persist_directory=\"./chroma2\")\n",
    "v_store._collection.count()"
   ]
  },
  {
   "cell_type": "code",
   "execution_count": null,
   "id": "a6435c47-c168-4c31-9d92-a6a6587928b1",
   "metadata": {},
   "outputs": [],
   "source": [
    "results = v_store.similarity_search(query = \"alignment\", k=4, score_threshold=0.8)\n",
    "results"
   ]
  },
  {
   "cell_type": "code",
   "execution_count": null,
   "id": "f14ea388-8ffc-4a96-b675-6ec8c7a62f95",
   "metadata": {},
   "outputs": [],
   "source": [
    "from langchain.llms import OpenAI\n",
    "from langchain.retrievers.self_query.base import SelfQueryRetriever\n",
    "from langchain.chains.query_constructor.base import AttributeInfo\n"
   ]
  },
  {
   "cell_type": "code",
   "execution_count": null,
   "id": "31ce9049-965d-417a-a9a4-8829f64d8fc5",
   "metadata": {},
   "outputs": [],
   "source": [
    "att_info = [\n",
    "    AttributeInfo(name=\"creator\", description = \"the creator of the Github issue\", type=\"string\"),\n",
    "    AttributeInfo(name=\"created_at\", description = \"the timestamp of issue creation in ISO-8601 format\", type=\"datetime.date\"),\n",
    "]\n",
    "sqretriever = SelfQueryRetriever.from_llm(llm=OpenAI(),\n",
    "                                        vectorstore=v_store,\n",
    "                                        metadata_field_info=att_info,\n",
    "                                        document_contents=\"Bio java issues\",\n",
    "                                        verbose=True,\n",
    "                                        search_kwargs={'k':3,'where_document':{\"$contains\": \"GANGSTA\"}})"
   ]
  },
  {
   "cell_type": "code",
   "execution_count": null,
   "id": "685ca476-a65f-4788-9c2f-8d33e16f914e",
   "metadata": {},
   "outputs": [],
   "source": [
    "results = sqretriever.get_relevant_documents(\"marking deprecated code created by richarda23\", verbose=True)\n",
    "results\n"
   ]
  },
  {
   "cell_type": "code",
   "execution_count": null,
   "id": "087374ad-0ad6-4928-b666-aea89561f9da",
   "metadata": {},
   "outputs": [],
   "source": [
    "from langchain.chains import RetrievalQA\n",
    "from langchain.chat_models  import ChatOpenAI\n",
    "llm = ChatOpenAI(model=\"gpt-4\", temperature=0.1, verbose=True)\n",
    "retriever = v_store.as_retriever( search_kwargs={'k':4,'where_document':{\"$contains\": \"GANGSTA\"}})\n",
    "vector_results = retriever.get_relevant_documents(query=\"What issues are about alignment\")\n",
    "\n",
    "vector_results"
   ]
  },
  {
   "cell_type": "code",
   "execution_count": null,
   "id": "a7c6dab2-aefd-4931-9e2f-558d82962174",
   "metadata": {},
   "outputs": [],
   "source": [
    "qa_chain = RetrievalQA.from_chain_type(llm,chain_type='stuff',retriever=sqretriever,verbose=True )\n",
    "\n",
    "result = qa_chain({\"query\": \"what is the current test coverage in biojava-core  \"})\n",
    "result"
   ]
  },
  {
   "cell_type": "code",
   "execution_count": null,
   "id": "a21671d5-4730-41cc-bfc1-85cfa31023cf",
   "metadata": {},
   "outputs": [],
   "source": []
  },
  {
   "cell_type": "code",
   "execution_count": null,
   "id": "6f167adf-0ef5-412c-a86c-ba4235c8d338",
   "metadata": {},
   "outputs": [],
   "source": []
  },
  {
   "cell_type": "code",
   "execution_count": null,
   "id": "30334b5e-257d-4846-87f3-5116c0f0a10a",
   "metadata": {},
   "outputs": [],
   "source": [
    "result"
   ]
  },
  {
   "cell_type": "code",
   "execution_count": null,
   "id": "234782b5-26bb-4cfd-bf2d-2a36cff778ec",
   "metadata": {},
   "outputs": [],
   "source": []
  },
  {
   "cell_type": "code",
   "execution_count": null,
   "id": "30e2d324-61bc-49b3-bcba-1ab8ba133a5c",
   "metadata": {},
   "outputs": [],
   "source": [
    "#v_store.delete_collection()"
   ]
  },
  {
   "cell_type": "code",
   "execution_count": null,
   "id": "b0ab86f3-7136-44eb-b647-5c2d6183c7e9",
   "metadata": {},
   "outputs": [],
   "source": []
  }
 ],
 "metadata": {
  "kernelspec": {
   "display_name": "Python 3 (ipykernel)",
   "language": "python",
   "name": "python3"
  },
  "language_info": {
   "codemirror_mode": {
    "name": "ipython",
    "version": 3
   },
   "file_extension": ".py",
   "mimetype": "text/x-python",
   "name": "python",
   "nbconvert_exporter": "python",
   "pygments_lexer": "ipython3",
   "version": "3.10.6"
  }
 },
 "nbformat": 4,
 "nbformat_minor": 5
}
