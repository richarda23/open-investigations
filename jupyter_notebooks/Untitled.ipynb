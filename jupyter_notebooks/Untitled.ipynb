{
 "cells": [
  {
   "cell_type": "code",
   "execution_count": 3,
   "id": "ba37f6ff-b8ed-49ed-aabc-ae04d5b7b7ca",
   "metadata": {},
   "outputs": [
    {
     "name": "stdout",
     "output_type": "stream",
     "text": [
      "BasicFunction.ipynb\n",
      "BuildChatGPTSystemsDeepLearningAi.ipynb\n",
      "ChinookDBInvestigation.ipynb\n",
      "ChinookMusicDBExample.ipynb\n",
      "Chroma.ipynb\n",
      "Coffee.ipynb\n",
      "CombinerWithMetadata.py\n",
      "GL1932384.pdf\n",
      "Helpdocs_scraper.ipynb\n",
      "HowToCallWeatherFunctionsWithChatModels.ipynb\n",
      "How_to_call_functions_with_chat_models.ipynb\n",
      "LLMTutorial notes.md\n",
      "LangChainAgents.ipynb\n",
      "LangChainChains.ipynb\n",
      "LangChainEvaluation.ipynb\n",
      "Langchain1.ipynb\n",
      "LangchainPrompts.ipynb\n",
      "LangchainQandA.ipynb\n",
      "MathsFunction.ipynb\n",
      "Ollama.ipynb\n",
      "OpenAITest.ipynb\n",
      "Pipfile\n",
      "Pipfile.lock\n",
      "PromptInjection.ipynb\n",
      "RSpaceQandA.ipynb\n",
      "RSpaceQandAipynb\n",
      "SummariseInput.ipynb\n",
      "Untitled.ipynb\n",
      "\u001b[34m__pycache__\u001b[m\u001b[m\n",
      "\u001b[34mchroma2\u001b[m\u001b[m\n",
      "\u001b[34mdata\u001b[m\u001b[m\n",
      "helptext.txt\n",
      "notebooks.pickle\n",
      "open_ai_functions.py\n",
      "polosummary-gpt4output.txt\n",
      "rec1.mp4a\n",
      "rspace_loader.py\n",
      "rspace_summarise.ipynb\n",
      "rspace_test.ipynb\n"
     ]
    }
   ],
   "source": [
    "!ls"
   ]
  },
  {
   "cell_type": "code",
   "execution_count": 48,
   "id": "14e97cc0-4255-404f-9527-89750c2c3e5d",
   "metadata": {},
   "outputs": [],
   "source": [
    "from openai import OpenAI\n",
    "from openai import ChatCompletion\n",
    "from dotenv import load_dotenv\n",
    "import os\n",
    "\n",
    "load_dotenv()\n",
    "client = OpenAI()\n",
    "\n",
    "def transcribe(audiofile):\n",
    "    audio_file = open(audiofile, \"rb\")\n",
    "    transcript = client.audio.transcriptions.create(\n",
    "      model=\"whisper-1\", \n",
    "      file=audio_file, \n",
    "      response_format=\"text\"\n",
    "    )\n",
    "    return transcript\n"
   ]
  },
  {
   "cell_type": "code",
   "execution_count": 49,
   "id": "4e948f1f-4c0c-488b-a505-c9bbf8485da4",
   "metadata": {},
   "outputs": [],
   "source": [
    "def complexity(transcription):\n",
    "    response = client.chat.completions.create(\n",
    "        model=\"gpt-4\",\n",
    "        temperature=0,\n",
    "        messages=[\n",
    "            {\n",
    "                \"role\": \"system\",\n",
    "                \"content\": f\"Please explain what reading level and typical age is needed to understand the text\"\n",
    "            },\n",
    "            {\n",
    "                \"role\": \"user\",\n",
    "                \"content\": transcription\n",
    "            }\n",
    "        ]\n",
    "    )\n",
    "    return response.choices[0].message.content"
   ]
  },
  {
   "cell_type": "code",
   "execution_count": 54,
   "id": "24e4bffd-a999-46ff-8cc8-16c2e3a1f8a2",
   "metadata": {},
   "outputs": [
    {
     "name": "stdout",
     "output_type": "stream",
     "text": [
      "You know, when you're in the playground and you're trying to choose what game to play and everyone puts their hand up and votes what game they want to play for and the people, the game that has the most votes is the one that you play, well, that's democracy.\n",
      "\n",
      "The reading level needed to understand this text is around 2nd to 3rd grade, and the typical age would be 7-9 years old.\n"
     ]
    }
   ],
   "source": [
    "transcription=transcribe('rec2.m4a')\n",
    "verdict = complexity(transcription)\n",
    "print (transcription)\n",
    "print (verdict)"
   ]
  },
  {
   "cell_type": "code",
   "execution_count": null,
   "id": "2f4b3a02-eefe-4819-9515-1576351ff5e0",
   "metadata": {},
   "outputs": [],
   "source": []
  }
 ],
 "metadata": {
  "kernelspec": {
   "display_name": "Python 3 (ipykernel)",
   "language": "python",
   "name": "python3"
  },
  "language_info": {
   "codemirror_mode": {
    "name": "ipython",
    "version": 3
   },
   "file_extension": ".py",
   "mimetype": "text/x-python",
   "name": "python",
   "nbconvert_exporter": "python",
   "pygments_lexer": "ipython3",
   "version": "3.10.6"
  }
 },
 "nbformat": 4,
 "nbformat_minor": 5
}
