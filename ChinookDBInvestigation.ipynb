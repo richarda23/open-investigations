{
 "cells": [
  {
   "cell_type": "markdown",
   "id": "c4588487-beb8-436e-b26d-d0dce3139cf6",
   "metadata": {},
   "source": [
    "# Query 1\n",
    "user: How many artists feature Santana?"
   ]
  },
  {
   "cell_type": "markdown",
   "id": "fbed7567-1e0e-4c6b-8e07-a8849ae78aab",
   "metadata": {},
   "source": [
    "\n",
    "## Answer 1 \n",
    "- incorrect, queried albums\n",
    "assistant:\n",
    "{'name': 'ask_database', 'arguments': '{\\n  \"query\": \"SELECT COUNT(DISTINCT ArtistId) FROM albums WHERE Title LIKE \\'%Santana%\\'\"\\n}'}"
   ]
  },
  {
   "cell_type": "markdown",
   "id": "a035c68f-f271-40ad-b868-ef4e34884c90",
   "metadata": {},
   "source": [
    "\n",
    "## Answer 2\n",
    "- correct, gave 9 results\n",
    "assistant:\n",
    "assistant: {'name': 'ask_database', 'arguments': '{\\n  \"query\":\"SELECT COUNT(*) FROM artists WHERE Name LIKE \\'%Santana%\\'\"\\n}'}"
   ]
  },
  {
   "cell_type": "markdown",
   "id": "8b0e9692-d413-4b3c-a4ff-1014259ceb61",
   "metadata": {},
   "source": [
    "# Query 2\n",
    "user: how many artists are there? Correct"
   ]
  },
  {
   "cell_type": "code",
   "execution_count": null,
   "id": "5008fed1-ce58-4a2e-bfb3-4372d6b42c5c",
   "metadata": {},
   "outputs": [],
   "source": [
    "system: Answer user questions by generating SQL queries against the Chinook Music Database.\n",
    "assistant: The genre with the least tracks in the Chinook Music Database is Opera. It only has 1 track."
   ]
  },
  {
   "cell_type": "markdown",
   "id": "50c9b712-0fe7-40da-938b-46201ee4e1f3",
   "metadata": {},
   "source": [
    "# Query 3\n",
    "What track is the most purchased?\n",
    "\n",
    "Results: \n",
    "Not incorrect but there are many tracks that have been purchased twice. Using limit 1 ignores ties\n",
    "\n",
    "Better query is sth like\n",
    "\n",
    "`select t.Name from tracks t inner join\n",
    "(select TrackId, count(*) c  from invoice_items group by TrackId  order by c desc)q\n",
    "on t.TrackId = q.TrackId\n",
    "where q.c = (select max(c) from (select TrackId, count(*) c  from invoice_items group by TrackId  order by c desc)q2)`\n",
    "\n",
    "which  gets all the tied max download\n",
    "\n",
    "Changign the prompt to ' \"What tracks are the most purchased\"' gets it to return the 5 highest, still using limit."
   ]
  },
  {
   "cell_type": "code",
   "execution_count": null,
   "id": "73143366-c909-4375-bc7c-1914241f482d",
   "metadata": {},
   "outputs": [],
   "source": [
    "system: Answer user questions by generating SQL queries against the Chinook Music Database.\n",
    "\n",
    "user: What track is the most purchased?\n",
    "\n",
    "assistant: {'name': 'ask_database', 'arguments': '{\\n  \"query\": \"SELECT tracks.Name, count(*) as purchased_times FROM invoice_items JOIN tracks ON tracks.TrackId = invoice_items.TrackId GROUP BY tracks.TrackId ORDER BY purchased_times DESC LIMIT 1\"\\n}'}\n",
    "\n",
    "function (ask_database): [('Balls to the Wall', 2)]\n",
    "\n",
    "assistant: The most purchased track is \"Balls to the Wall\" with 2 purchases."
   ]
  },
  {
   "cell_type": "markdown",
   "id": "2e29bf36-2371-4caa-9170-fa928f3bd565",
   "metadata": {},
   "source": [
    "## List the 5 highest spending customers?\n",
    "\n",
    "Nailed it. Got the correct result with a shorter query than what I came up with. It noticed there is already a column.\n",
    "It assumed costs were in $ but it is not known what is the currency.\n",
    "for the index total.\n",
    "This was my query:\n",
    "\n",
    "```\n",
    "select i.CustomerId, c.FirstName || ' ' ||  c.LastName as customerName,  round(sum(spendPerInvoice.totalSpent),2) as spendPerCustomer \n",
    "from invoices i\n",
    "inner join\n",
    "(select InvoiceId, round(sum(UnitPrice * Quantity),2) as totalSpent \n",
    "  from invoice_items\n",
    "  group by InvoiceId \n",
    "  order by totalSpent desc) spendPerInvoice\n",
    "on i.InvoiceId = spendPerInvoice.InvoiceId\n",
    "inner join customers c\n",
    "on c.CustomerId=i.CustomerId\n",
    "group by i.CustomerId\n",
    "order by spendPerCustomer desc\n",
    "limit 5\n",
    "```"
   ]
  },
  {
   "cell_type": "code",
   "execution_count": null,
   "id": "8b5d3490-7c1d-4789-aaad-3316ba71b74c",
   "metadata": {},
   "outputs": [],
   "source": [
    "user: List the 5 highest spending customers?\n",
    "\n",
    "assistant: {'name': 'ask_database', 'arguments': \n",
    "            '{\\n  \"query\": \"SELECT customers.FirstName, customers.LastName, SUM(invoices.Total) as TotalSpent FROM customers INNER JOIN invoices ON customers.CustomerId = invoices.CustomerId GROUP BY customers.CustomerId ORDER BY TotalSpent DESC LIMIT 5\"\\n}'}\n",
    "\n",
    "function (ask_database): [('Helena', 'Holý', 49.620000000000005), ('Richard', 'Cunningham', 47.620000000000005), ('Luis', 'Rojas', 46.62), ('Ladislav', 'Kovács', 45.62), ('Hugh', \"O'Reilly\", 45.62)]\n",
    "\n",
    "assistant: The 5 highest spending customers are:\n",
    "\n",
    "1. Helena Holý: $49.62\n",
    "2. Richard Cunningham: $47.62\n",
    "3. Luis Rojas: $46.62\n",
    "4. Ladislav Kovács: $45.62\n",
    "5. Hugh O'Reilly: $45.62"
   ]
  }
 ],
 "metadata": {
  "kernelspec": {
   "display_name": "Python 3 (ipykernel)",
   "language": "python",
   "name": "python3"
  },
  "language_info": {
   "codemirror_mode": {
    "name": "ipython",
    "version": 3
   },
   "file_extension": ".py",
   "mimetype": "text/x-python",
   "name": "python",
   "nbconvert_exporter": "python",
   "pygments_lexer": "ipython3",
   "version": "3.10.6"
  }
 },
 "nbformat": 4,
 "nbformat_minor": 5
}
