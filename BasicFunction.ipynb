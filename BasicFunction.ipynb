{
 "cells": [
  {
   "cell_type": "code",
   "execution_count": 21,
   "id": "75cfe7d7-a1bc-4f30-8915-21307e36d25d",
   "metadata": {},
   "outputs": [],
   "source": [
    "import json\n",
    "import openai\n",
    "import requests\n",
    "from tenacity import retry, wait_random_exponential, stop_after_attempt\n",
    "from termcolor import colored\n",
    "\n",
    "GPT_MODEL = \"gpt-4\""
   ]
  },
  {
   "cell_type": "code",
   "execution_count": 2,
   "id": "c0ab86f7-7612-4ce5-9f39-663e9898e924",
   "metadata": {},
   "outputs": [],
   "source": [
    "@retry(wait=wait_random_exponential(multiplier=1, max=40), stop=stop_after_attempt(3))\n",
    "def chat_completion_request(messages, functions=None, function_call=None, model=GPT_MODEL):\n",
    "    headers = {\n",
    "        \"Content-Type\": \"application/json\",\n",
    "        \"Authorization\": \"Bearer \" + openai.api_key,\n",
    "    }\n",
    "    json_data = {\"model\": model, \"messages\": messages}\n",
    "    if functions is not None:\n",
    "        json_data.update({\"functions\": functions})\n",
    "    if function_call is not None:\n",
    "        json_data.update({\"function_call\": function_call})\n",
    "    try:\n",
    "        response = requests.post(\n",
    "            \"https://api.openai.com/v1/chat/completions\",\n",
    "            headers=headers,\n",
    "            json=json_data,\n",
    "        )\n",
    "        return response\n",
    "    except Exception as e:\n",
    "        print(\"Unable to generate ChatCompletion response\")\n",
    "        print(f\"Exception: {e}\")\n",
    "        return e"
   ]
  },
  {
   "cell_type": "code",
   "execution_count": 45,
   "id": "32797540-490d-4164-b694-fa635db79175",
   "metadata": {},
   "outputs": [],
   "source": [
    "def multiply (*args):\n",
    "    rc = 1\n",
    "    for i in args:\n",
    "        rc = rc *i\n",
    "    return rc\n",
    "\n",
    "def add (*args):\n",
    "    return sum(args)\n",
    "\n",
    "available_functions = {\n",
    "    \"multiply\":multiply,\n",
    "    \"add\":add,\n",
    "}\n",
    "\n",
    "functions = [\n",
    "    {\n",
    "        \"name\" : \"multiply\",\n",
    "        \"description\": \"Multiply arguments together\",\n",
    "        \"parameters\" : {\n",
    "            \"type\": \"object\",\n",
    "            \"properties\" : {\n",
    "                \"input\": {\n",
    "                     \"type\":\"array\",\n",
    "                     \"items\": {\n",
    "                        \"type\":\"number\",\n",
    "                         \"minLength\":2\n",
    "                     }\n",
    "                } \n",
    "              }\n",
    "        }\n",
    "    },\n",
    "    {\n",
    "        \"name\" : \"add\",\n",
    "        \"description\": \"Add arguments together\",\n",
    "        \"parameters\" : {\n",
    "            \"type\": \"object\",\n",
    "            \"properties\" : {\n",
    "                \"input\": {\n",
    "                     \"type\":\"array\",\n",
    "                     \"items\": {\n",
    "                        \"type\":\"number\",\n",
    "                         \"minLength\":2\n",
    "                     }\n",
    "                } \n",
    "              }\n",
    "        }\n",
    "    }\n",
    "]\n",
    "        "
   ]
  },
  {
   "cell_type": "code",
   "execution_count": 42,
   "id": "0e761208-8c69-4870-a706-1b38fb1f1dda",
   "metadata": {},
   "outputs": [],
   "source": [
    "messages = [\n",
    " {\n",
    "     \"role\":\"system\",\n",
    "     \"content\":\"Answer user questions returning function arguments\"\n",
    " },\n",
    " {\n",
    "     \"role\": \"user\",\n",
    "     \"content\":\"What is five plus 34 + one hundred\"\n",
    " }\n",
    "]"
   ]
  },
  {
   "cell_type": "code",
   "execution_count": 46,
   "id": "4b8e61f3-8030-49c8-b27f-29f642f23caa",
   "metadata": {},
   "outputs": [],
   "source": [
    "resp = chat_completion_request(messages, functions)"
   ]
  },
  {
   "cell_type": "code",
   "execution_count": 47,
   "id": "f45dcb34-3a0e-4bdc-a70f-58fff4ae4c90",
   "metadata": {},
   "outputs": [
    {
     "name": "stdout",
     "output_type": "stream",
     "text": [
      "{'role': 'assistant', 'content': None, 'function_call': {'name': 'add', 'arguments': '{\\n  \"input\": [5, 34, 100]\\n}'}}\n"
     ]
    }
   ],
   "source": [
    "response_message = resp.json()['choices'][0]['message']\n",
    "print(response_message)"
   ]
  },
  {
   "cell_type": "code",
   "execution_count": 48,
   "id": "0c366cf1-d85b-4a80-aa21-3e7df45a80ae",
   "metadata": {},
   "outputs": [
    {
     "name": "stdout",
     "output_type": "stream",
     "text": [
      "139\n"
     ]
    }
   ],
   "source": [
    "if 'function_call' in response_message and response_message['function_call'] is not None:\n",
    "    to_call = response_message['function_call']['name']\n",
    "    f_args = json.loads(response_message['function_call']['arguments'])['input']\n",
    "    result = available_functions[to_call](*f_args)\n",
    "    print(result)\n",
    "else:\n",
    "    print(f'no function was returned - {response_message[\"content\"]}')\n",
    "    "
   ]
  },
  {
   "cell_type": "code",
   "execution_count": null,
   "id": "696e79ed-e5b7-42c6-b526-40d4af587e8b",
   "metadata": {},
   "outputs": [],
   "source": []
  }
 ],
 "metadata": {
  "kernelspec": {
   "display_name": "Python 3 (ipykernel)",
   "language": "python",
   "name": "python3"
  },
  "language_info": {
   "codemirror_mode": {
    "name": "ipython",
    "version": 3
   },
   "file_extension": ".py",
   "mimetype": "text/x-python",
   "name": "python",
   "nbconvert_exporter": "python",
   "pygments_lexer": "ipython3",
   "version": "3.10.6"
  }
 },
 "nbformat": 4,
 "nbformat_minor": 5
}
